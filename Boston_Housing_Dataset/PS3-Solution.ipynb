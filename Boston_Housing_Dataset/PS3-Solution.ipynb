{
 "cells": [
  {
   "cell_type": "markdown",
   "metadata": {
    "ein.tags": [
     "worksheet-0"
    ],
    "slideshow": {
     "slide_type": "-"
    }
   },
   "source": [
    "# Problem Set 3, due May 9th at 3:30pm.\n",
    "\n",
    "### Before You Start\n",
    "\n",
    "Make sure the following libraries load correctly (hit Ctrl-Enter). Note that while you are loading several powerful libraries, including machine learning libraries, the goal of this problem set is to implement several algorithms from scratch. In particular, you should *not* be using any built-in libraries for nearest neighbors, distance metrics, or cross-validation -- your mission is to write those algorithms in Python!\n",
    "\n",
    "*Also note:* For this assignment we are requiring you to use base **matplotlib** - no more Seaborn or other packages. This will help you become familiar with techniques for maintaining fine-grained control over your data visualizations. It will also help our graders, who spent countless hours trying to make various versions import for grading."
   ]
  },
  {
   "cell_type": "code",
   "execution_count": 1,
   "metadata": {
    "autoscroll": "json-false",
    "collapsed": false,
    "ein.tags": [
     "worksheet-0"
    ],
    "slideshow": {
     "slide_type": "-"
    }
   },
   "outputs": [],
   "source": [
    "import IPython\n",
    "import numpy as np\n",
    "import scipy as sp\n",
    "import pandas as pd\n",
    "import matplotlib as plt\n",
    "%matplotlib inline\n",
    "import sklearn"
   ]
  },
  {
   "cell_type": "markdown",
   "metadata": {
    "ein.tags": [
     "worksheet-0"
    ],
    "slideshow": {
     "slide_type": "-"
    }
   },
   "source": [
    "---\n",
    "\n",
    "## Introduction to the assignment\n",
    "\n",
    "For this assignment, you will be using the [Boston Housing Prices Data Set](http://archive.ics.uci.edu/ml/datasets/Housing).  Please read about the dataset carefully before continuing.  Use the following commands to load the dataset and print some descriptive information\n"
   ]
  },
  {
   "cell_type": "code",
   "execution_count": 2,
   "metadata": {
    "autoscroll": "json-false",
    "collapsed": false,
    "ein.tags": [
     "worksheet-0"
    ],
    "slideshow": {
     "slide_type": "-"
    }
   },
   "outputs": [
    {
     "name": "stdout",
     "output_type": "stream",
     "text": [
      "(506L, 13L)\n",
      "(506L,)\n"
     ]
    }
   ],
   "source": [
    "from sklearn.datasets import load_boston\n",
    "bdata = load_boston()\n",
    "print bdata.data.shape\n",
    "y = bdata.target\n",
    "print y.shape"
   ]
  },
  {
   "cell_type": "markdown",
   "metadata": {
    "ein.tags": [
     "worksheet-0"
    ],
    "slideshow": {
     "slide_type": "-"
    }
   },
   "source": [
    "The following commands will provide some basic information about the shape of the data:"
   ]
  },
  {
   "cell_type": "code",
   "execution_count": 3,
   "metadata": {
    "autoscroll": "json-false",
    "collapsed": false,
    "ein.tags": [
     "worksheet-0"
    ],
    "slideshow": {
     "slide_type": "-"
    }
   },
   "outputs": [
    {
     "name": "stdout",
     "output_type": "stream",
     "text": [
      "['data', 'feature_names', 'DESCR', 'target']\n"
     ]
    }
   ],
   "source": [
    "print bdata.keys()\n"
   ]
  },
  {
   "cell_type": "code",
   "execution_count": 4,
   "metadata": {
    "collapsed": false
   },
   "outputs": [],
   "source": [
    "bd_df = pd.DataFrame(bdata.data, columns = bdata.feature_names)\n",
    "bd_df1 = bd_df\n",
    "bd_df1['MEDV'] = bdata.target"
   ]
  },
  {
   "cell_type": "code",
   "execution_count": 5,
   "metadata": {
    "collapsed": false
   },
   "outputs": [
    {
     "data": {
      "text/html": [
       "<div>\n",
       "<table border=\"1\" class=\"dataframe\">\n",
       "  <thead>\n",
       "    <tr style=\"text-align: right;\">\n",
       "      <th></th>\n",
       "      <th>CRIM</th>\n",
       "      <th>ZN</th>\n",
       "      <th>INDUS</th>\n",
       "      <th>CHAS</th>\n",
       "      <th>NOX</th>\n",
       "      <th>RM</th>\n",
       "      <th>AGE</th>\n",
       "      <th>DIS</th>\n",
       "      <th>RAD</th>\n",
       "      <th>TAX</th>\n",
       "      <th>PTRATIO</th>\n",
       "      <th>B</th>\n",
       "      <th>LSTAT</th>\n",
       "      <th>MEDV</th>\n",
       "    </tr>\n",
       "  </thead>\n",
       "  <tbody>\n",
       "    <tr>\n",
       "      <th>count</th>\n",
       "      <td>506.000000</td>\n",
       "      <td>506.000000</td>\n",
       "      <td>506.000000</td>\n",
       "      <td>506.000000</td>\n",
       "      <td>506.000000</td>\n",
       "      <td>506.000000</td>\n",
       "      <td>506.000000</td>\n",
       "      <td>506.000000</td>\n",
       "      <td>506.000000</td>\n",
       "      <td>506.000000</td>\n",
       "      <td>506.000000</td>\n",
       "      <td>506.000000</td>\n",
       "      <td>506.000000</td>\n",
       "      <td>506.000000</td>\n",
       "    </tr>\n",
       "    <tr>\n",
       "      <th>mean</th>\n",
       "      <td>3.593761</td>\n",
       "      <td>11.363636</td>\n",
       "      <td>11.136779</td>\n",
       "      <td>0.069170</td>\n",
       "      <td>0.554695</td>\n",
       "      <td>6.284634</td>\n",
       "      <td>68.574901</td>\n",
       "      <td>3.795043</td>\n",
       "      <td>9.549407</td>\n",
       "      <td>408.237154</td>\n",
       "      <td>18.455534</td>\n",
       "      <td>356.674032</td>\n",
       "      <td>12.653063</td>\n",
       "      <td>22.532806</td>\n",
       "    </tr>\n",
       "    <tr>\n",
       "      <th>std</th>\n",
       "      <td>8.596783</td>\n",
       "      <td>23.322453</td>\n",
       "      <td>6.860353</td>\n",
       "      <td>0.253994</td>\n",
       "      <td>0.115878</td>\n",
       "      <td>0.702617</td>\n",
       "      <td>28.148861</td>\n",
       "      <td>2.105710</td>\n",
       "      <td>8.707259</td>\n",
       "      <td>168.537116</td>\n",
       "      <td>2.164946</td>\n",
       "      <td>91.294864</td>\n",
       "      <td>7.141062</td>\n",
       "      <td>9.197104</td>\n",
       "    </tr>\n",
       "    <tr>\n",
       "      <th>min</th>\n",
       "      <td>0.006320</td>\n",
       "      <td>0.000000</td>\n",
       "      <td>0.460000</td>\n",
       "      <td>0.000000</td>\n",
       "      <td>0.385000</td>\n",
       "      <td>3.561000</td>\n",
       "      <td>2.900000</td>\n",
       "      <td>1.129600</td>\n",
       "      <td>1.000000</td>\n",
       "      <td>187.000000</td>\n",
       "      <td>12.600000</td>\n",
       "      <td>0.320000</td>\n",
       "      <td>1.730000</td>\n",
       "      <td>5.000000</td>\n",
       "    </tr>\n",
       "    <tr>\n",
       "      <th>25%</th>\n",
       "      <td>0.082045</td>\n",
       "      <td>0.000000</td>\n",
       "      <td>5.190000</td>\n",
       "      <td>0.000000</td>\n",
       "      <td>0.449000</td>\n",
       "      <td>5.885500</td>\n",
       "      <td>45.025000</td>\n",
       "      <td>2.100175</td>\n",
       "      <td>4.000000</td>\n",
       "      <td>279.000000</td>\n",
       "      <td>17.400000</td>\n",
       "      <td>375.377500</td>\n",
       "      <td>6.950000</td>\n",
       "      <td>17.025000</td>\n",
       "    </tr>\n",
       "    <tr>\n",
       "      <th>50%</th>\n",
       "      <td>0.256510</td>\n",
       "      <td>0.000000</td>\n",
       "      <td>9.690000</td>\n",
       "      <td>0.000000</td>\n",
       "      <td>0.538000</td>\n",
       "      <td>6.208500</td>\n",
       "      <td>77.500000</td>\n",
       "      <td>3.207450</td>\n",
       "      <td>5.000000</td>\n",
       "      <td>330.000000</td>\n",
       "      <td>19.050000</td>\n",
       "      <td>391.440000</td>\n",
       "      <td>11.360000</td>\n",
       "      <td>21.200000</td>\n",
       "    </tr>\n",
       "    <tr>\n",
       "      <th>75%</th>\n",
       "      <td>3.647423</td>\n",
       "      <td>12.500000</td>\n",
       "      <td>18.100000</td>\n",
       "      <td>0.000000</td>\n",
       "      <td>0.624000</td>\n",
       "      <td>6.623500</td>\n",
       "      <td>94.075000</td>\n",
       "      <td>5.188425</td>\n",
       "      <td>24.000000</td>\n",
       "      <td>666.000000</td>\n",
       "      <td>20.200000</td>\n",
       "      <td>396.225000</td>\n",
       "      <td>16.955000</td>\n",
       "      <td>25.000000</td>\n",
       "    </tr>\n",
       "    <tr>\n",
       "      <th>max</th>\n",
       "      <td>88.976200</td>\n",
       "      <td>100.000000</td>\n",
       "      <td>27.740000</td>\n",
       "      <td>1.000000</td>\n",
       "      <td>0.871000</td>\n",
       "      <td>8.780000</td>\n",
       "      <td>100.000000</td>\n",
       "      <td>12.126500</td>\n",
       "      <td>24.000000</td>\n",
       "      <td>711.000000</td>\n",
       "      <td>22.000000</td>\n",
       "      <td>396.900000</td>\n",
       "      <td>37.970000</td>\n",
       "      <td>50.000000</td>\n",
       "    </tr>\n",
       "  </tbody>\n",
       "</table>\n",
       "</div>"
      ],
      "text/plain": [
       "             CRIM          ZN       INDUS        CHAS         NOX          RM  \\\n",
       "count  506.000000  506.000000  506.000000  506.000000  506.000000  506.000000   \n",
       "mean     3.593761   11.363636   11.136779    0.069170    0.554695    6.284634   \n",
       "std      8.596783   23.322453    6.860353    0.253994    0.115878    0.702617   \n",
       "min      0.006320    0.000000    0.460000    0.000000    0.385000    3.561000   \n",
       "25%      0.082045    0.000000    5.190000    0.000000    0.449000    5.885500   \n",
       "50%      0.256510    0.000000    9.690000    0.000000    0.538000    6.208500   \n",
       "75%      3.647423   12.500000   18.100000    0.000000    0.624000    6.623500   \n",
       "max     88.976200  100.000000   27.740000    1.000000    0.871000    8.780000   \n",
       "\n",
       "              AGE         DIS         RAD         TAX     PTRATIO           B  \\\n",
       "count  506.000000  506.000000  506.000000  506.000000  506.000000  506.000000   \n",
       "mean    68.574901    3.795043    9.549407  408.237154   18.455534  356.674032   \n",
       "std     28.148861    2.105710    8.707259  168.537116    2.164946   91.294864   \n",
       "min      2.900000    1.129600    1.000000  187.000000   12.600000    0.320000   \n",
       "25%     45.025000    2.100175    4.000000  279.000000   17.400000  375.377500   \n",
       "50%     77.500000    3.207450    5.000000  330.000000   19.050000  391.440000   \n",
       "75%     94.075000    5.188425   24.000000  666.000000   20.200000  396.225000   \n",
       "max    100.000000   12.126500   24.000000  711.000000   22.000000  396.900000   \n",
       "\n",
       "            LSTAT        MEDV  \n",
       "count  506.000000  506.000000  \n",
       "mean    12.653063   22.532806  \n",
       "std      7.141062    9.197104  \n",
       "min      1.730000    5.000000  \n",
       "25%      6.950000   17.025000  \n",
       "50%     11.360000   21.200000  \n",
       "75%     16.955000   25.000000  \n",
       "max     37.970000   50.000000  "
      ]
     },
     "execution_count": 5,
     "metadata": {},
     "output_type": "execute_result"
    }
   ],
   "source": [
    "bd_df1.describe()\n"
   ]
  },
  {
   "cell_type": "markdown",
   "metadata": {
    "ein.tags": [
     "worksheet-0"
    ],
    "slideshow": {
     "slide_type": "-"
    }
   },
   "source": [
    "---\n",
    "\n",
    "## Part 1: Descriptive analysis\n",
    "\n",
    "The goal of this section is to explore the data and make a few nice\n",
    "visualizations -- before beginning the \"real\" work, we should dig into\n",
    "the data a bit do see what we are dealing with.  If you're new to data visualization, [this guide](http://pubs.aeaweb.org/doi/pdfplus/10.1257/jep.28.1.209) is a good place to start.\n",
    "  \n",
    "\n",
    "### 1.1: Histogram of housing prices\n",
    "\n",
    "Your first task is to make a histogram of 'MEDV' (the median hose\n",
    "                                                  value, your target\n",
    "                                                  variable), and make this graph look pretty by doing the following:\n",
    "\n",
    "1. Add appropriate labels to the x and y axes, make sure to include units\n",
    "2. Change the bin width on the histogram to be $1000\n",
    "3. Remove the axes on the top and right side of the plot window\n",
    "4. Change the color of the bars to be green, and remove the black borders from the bars\n"
   ]
  },
  {
   "cell_type": "code",
   "execution_count": 6,
   "metadata": {
    "collapsed": false
   },
   "outputs": [
    {
     "data": {
      "image/png": "[encoded data removed]",
      "text/plain": [
       "<matplotlib.figure.Figure at 0xa4bec88>"
      ]
     },
     "metadata": {},
     "output_type": "display_data"
    }
   ],
   "source": [
    "from matplotlib import *\n",
    "import sys\n",
    "from pylab import *\n",
    "\n",
    "fig,a = plt.subplots()\n",
    "a.hist(bdata.target, facecolor='green', bins =45)\n",
    "a.set_xlabel(\"Median value of owner-occupied homes in $1000's\")\n",
    "a.set_ylabel(\"Frequency\")\n",
    "plt.title('Distribution of Median value of Owner-occupied Homes')\n",
    "\n",
    "# Hide the right and top spines\n",
    "a.spines['right'].set_visible(False)\n",
    "a.spines['top'].set_visible(False)\n",
    "\n",
    "plt.show()"
   ]
  },
  {
   "cell_type": "markdown",
   "metadata": {
    "ein.tags": [
     "worksheet-0"
    ],
    "slideshow": {
     "slide_type": "-"
    }
   },
   "source": [
    "### 1.2: Scatter plot of housing prices and crime\n",
    "\n",
    "Use matplotlib to create a scatter plot that shows the relationship\n",
    "between the median value of the home (y-axis) and the per-capita crime\n",
    "rate (x-axis).  Properly label your axes, and make sure that your\n",
    "graphic looks polished and professional.  \n"
   ]
  },
  {
   "cell_type": "code",
   "execution_count": 7,
   "metadata": {
    "autoscroll": "json-false",
    "collapsed": false,
    "ein.tags": [
     "worksheet-0"
    ],
    "slideshow": {
     "slide_type": "-"
    }
   },
   "outputs": [
    {
     "data": {
      "text/plain": [
       "<matplotlib.text.Text at 0xc0ba438>"
      ]
     },
     "execution_count": 7,
     "metadata": {},
     "output_type": "execute_result"
    },
    {
     "data": {
      "image/png": "[encoded data removed]",
      "text/plain": [
       "<matplotlib.figure.Figure at 0xa5073c8>"
      ]
     },
     "metadata": {},
     "output_type": "display_data"
    }
   ],
   "source": [
    "plt.scatter(bd_df['CRIM'], bdata.target)\n",
    "plt.xlabel(\"Per capita crime rate by town\")\n",
    "plt.ylabel(\"Median value of homes in $1000's\")\n",
    "plt.title('Relationship between Median home value and Crime rate')"
   ]
  },
  {
   "cell_type": "markdown",
   "metadata": {
    "ein.tags": [
     "worksheet-0"
    ],
    "slideshow": {
     "slide_type": "-"
    }
   },
   "source": [
    "### 1.3 Create your own (creative and effective) visualization\n",
    "\n",
    "Use another type of graph or chart to illustrate an interesting pattern in the data.  Be creative in your visualization, and make sure to produce a \"publication-quality\" graph.  Points will be given for useful and creative graphs; points will be deducted for confusing issues like unlabeled axes.  "
   ]
  },
  {
   "cell_type": "code",
   "execution_count": 8,
   "metadata": {
    "autoscroll": "json-false",
    "collapsed": false,
    "ein.tags": [
     "worksheet-0"
    ],
    "slideshow": {
     "slide_type": "-"
    }
   },
   "outputs": [
    {
     "data": {
      "text/plain": [
       "<matplotlib.text.Text at 0xc0f4748>"
      ]
     },
     "execution_count": 8,
     "metadata": {},
     "output_type": "execute_result"
    },
    {
     "data": {
      "image/png": "[encoded data removed]",
      "text/plain": [
       "<matplotlib.figure.Figure at 0xc0ae978>"
      ]
     },
     "metadata": {},
     "output_type": "display_data"
    }
   ],
   "source": [
    "plt.scatter(bd_df['LSTAT'], bdata.target)\n",
    "plt.xlabel(\"Median value of homes in $1000's\")\n",
    "plt.ylabel(\"% lower status of the population\") \n",
    "plt.title('Relationship between Median home value and Status of People')"
   ]
  },
  {
   "cell_type": "markdown",
   "metadata": {
    "ein.tags": [
     "worksheet-0"
    ],
    "slideshow": {
     "slide_type": "-"
    }
   },
   "source": [
    "---\n",
    "\n",
    "## Part 2: Experimental Setup\n",
    "\n",
    "The goal of the next few sections is to design an experiment to predict the median home value for an instance in the data.\n",
    "\n",
    "### 2.1 Begin by writing a function to compute the Root Mean Squared Error for a list of numbers\n",
    "\n",
    "You can find the sqrt function in the Numpy package. \n",
    "Details of RMSE can be found in Hastie, Tibishrani, Friedman _The\n",
    "Elements of Statistical Learning_, Ch 2.5.  (Available on the web)\n",
    "\n"
   ]
  },
  {
   "cell_type": "code",
   "execution_count": 9,
   "metadata": {
    "autoscroll": "json-false",
    "collapsed": false,
    "ein.tags": [
     "worksheet-0"
    ],
    "slideshow": {
     "slide_type": "-"
    }
   },
   "outputs": [
    {
     "data": {
      "text/plain": [
       "2.0816659994661326"
      ]
     },
     "execution_count": 9,
     "metadata": {},
     "output_type": "execute_result"
    }
   ],
   "source": [
    "# Function to calculate root mean squared error (RMSE)\n",
    "\n",
    "def compute_rmse(prediction, target):\n",
    "    prediction = np.array(prediction)\n",
    "    target = np.array(target)\n",
    "    return np.sqrt(np.mean((prediction-target)**2))\n",
    "\n",
    "#Example\n",
    "\n",
    "prediction = np.array([2,2,3])\n",
    "target = np.array([0,2,6])\n",
    "compute_rmse(prediction,target)"
   ]
  },
  {
   "cell_type": "markdown",
   "metadata": {
    "ein.tags": [
     "worksheet-0"
    ],
    "slideshow": {
     "slide_type": "-"
    }
   },
   "source": [
    "### 2.2 Divide your data into training and testing datasets\n",
    "\n",
    "\n",
    "Randomly select 66% of the data and put this in a training dataset\n",
    "(call this \"bdata_train\"), and place the remaining 34% in a testing\n",
    "dataset (call this \"bdata_test\").  Please us 'np.random' for random numbers.\n"
   ]
  },
  {
   "cell_type": "code",
   "execution_count": 10,
   "metadata": {
    "autoscroll": "json-false",
    "collapsed": false,
    "ein.tags": [
     "worksheet-0"
    ],
    "slideshow": {
     "slide_type": "-"
    }
   },
   "outputs": [
    {
     "data": {
      "text/html": [
       "<div>\n",
       "<table border=\"1\" class=\"dataframe\">\n",
       "  <thead>\n",
       "    <tr style=\"text-align: right;\">\n",
       "      <th></th>\n",
       "      <th>CRIM</th>\n",
       "      <th>ZN</th>\n",
       "      <th>INDUS</th>\n",
       "      <th>CHAS</th>\n",
       "      <th>NOX</th>\n",
       "      <th>RM</th>\n",
       "      <th>AGE</th>\n",
       "      <th>DIS</th>\n",
       "      <th>RAD</th>\n",
       "      <th>TAX</th>\n",
       "      <th>PTRATIO</th>\n",
       "      <th>B</th>\n",
       "      <th>LSTAT</th>\n",
       "      <th>MEDV</th>\n",
       "    </tr>\n",
       "  </thead>\n",
       "  <tbody>\n",
       "    <tr>\n",
       "      <th>count</th>\n",
       "      <td>334.000000</td>\n",
       "      <td>334.000000</td>\n",
       "      <td>334.000000</td>\n",
       "      <td>334.000000</td>\n",
       "      <td>334.000000</td>\n",
       "      <td>334.000000</td>\n",
       "      <td>334.000000</td>\n",
       "      <td>334.000000</td>\n",
       "      <td>334.000000</td>\n",
       "      <td>334.000000</td>\n",
       "      <td>334.000000</td>\n",
       "      <td>334.000000</td>\n",
       "      <td>334.000000</td>\n",
       "      <td>334.000000</td>\n",
       "    </tr>\n",
       "    <tr>\n",
       "      <th>mean</th>\n",
       "      <td>3.508231</td>\n",
       "      <td>11.791916</td>\n",
       "      <td>10.980599</td>\n",
       "      <td>0.050898</td>\n",
       "      <td>0.549107</td>\n",
       "      <td>6.239428</td>\n",
       "      <td>67.150299</td>\n",
       "      <td>3.907874</td>\n",
       "      <td>9.155689</td>\n",
       "      <td>404.751497</td>\n",
       "      <td>18.463174</td>\n",
       "      <td>353.808862</td>\n",
       "      <td>12.888862</td>\n",
       "      <td>22.045808</td>\n",
       "    </tr>\n",
       "    <tr>\n",
       "      <th>std</th>\n",
       "      <td>7.996200</td>\n",
       "      <td>23.637419</td>\n",
       "      <td>6.826226</td>\n",
       "      <td>0.220120</td>\n",
       "      <td>0.114523</td>\n",
       "      <td>0.707043</td>\n",
       "      <td>28.889297</td>\n",
       "      <td>2.162850</td>\n",
       "      <td>8.522696</td>\n",
       "      <td>165.600666</td>\n",
       "      <td>2.147068</td>\n",
       "      <td>95.818304</td>\n",
       "      <td>7.270466</td>\n",
       "      <td>8.587299</td>\n",
       "    </tr>\n",
       "    <tr>\n",
       "      <th>min</th>\n",
       "      <td>0.006320</td>\n",
       "      <td>0.000000</td>\n",
       "      <td>0.740000</td>\n",
       "      <td>0.000000</td>\n",
       "      <td>0.385000</td>\n",
       "      <td>3.561000</td>\n",
       "      <td>2.900000</td>\n",
       "      <td>1.137000</td>\n",
       "      <td>1.000000</td>\n",
       "      <td>187.000000</td>\n",
       "      <td>12.600000</td>\n",
       "      <td>0.320000</td>\n",
       "      <td>1.730000</td>\n",
       "      <td>5.000000</td>\n",
       "    </tr>\n",
       "    <tr>\n",
       "      <th>25%</th>\n",
       "      <td>0.082492</td>\n",
       "      <td>0.000000</td>\n",
       "      <td>5.190000</td>\n",
       "      <td>0.000000</td>\n",
       "      <td>0.448000</td>\n",
       "      <td>5.854500</td>\n",
       "      <td>42.250000</td>\n",
       "      <td>2.114675</td>\n",
       "      <td>4.000000</td>\n",
       "      <td>279.000000</td>\n",
       "      <td>17.400000</td>\n",
       "      <td>374.462500</td>\n",
       "      <td>7.182500</td>\n",
       "      <td>16.850000</td>\n",
       "    </tr>\n",
       "    <tr>\n",
       "      <th>50%</th>\n",
       "      <td>0.234405</td>\n",
       "      <td>0.000000</td>\n",
       "      <td>9.125000</td>\n",
       "      <td>0.000000</td>\n",
       "      <td>0.524000</td>\n",
       "      <td>6.170500</td>\n",
       "      <td>73.900000</td>\n",
       "      <td>3.376500</td>\n",
       "      <td>5.000000</td>\n",
       "      <td>330.000000</td>\n",
       "      <td>19.000000</td>\n",
       "      <td>391.190000</td>\n",
       "      <td>11.645000</td>\n",
       "      <td>21.200000</td>\n",
       "    </tr>\n",
       "    <tr>\n",
       "      <th>75%</th>\n",
       "      <td>2.709347</td>\n",
       "      <td>19.500000</td>\n",
       "      <td>18.100000</td>\n",
       "      <td>0.000000</td>\n",
       "      <td>0.624000</td>\n",
       "      <td>6.615750</td>\n",
       "      <td>93.800000</td>\n",
       "      <td>5.372350</td>\n",
       "      <td>8.000000</td>\n",
       "      <td>666.000000</td>\n",
       "      <td>20.200000</td>\n",
       "      <td>395.735000</td>\n",
       "      <td>17.157500</td>\n",
       "      <td>24.800000</td>\n",
       "    </tr>\n",
       "    <tr>\n",
       "      <th>max</th>\n",
       "      <td>73.534100</td>\n",
       "      <td>100.000000</td>\n",
       "      <td>27.740000</td>\n",
       "      <td>1.000000</td>\n",
       "      <td>0.871000</td>\n",
       "      <td>8.780000</td>\n",
       "      <td>100.000000</td>\n",
       "      <td>12.126500</td>\n",
       "      <td>24.000000</td>\n",
       "      <td>711.000000</td>\n",
       "      <td>22.000000</td>\n",
       "      <td>396.900000</td>\n",
       "      <td>37.970000</td>\n",
       "      <td>50.000000</td>\n",
       "    </tr>\n",
       "  </tbody>\n",
       "</table>\n",
       "</div>"
      ],
      "text/plain": [
       "             CRIM          ZN       INDUS        CHAS         NOX          RM  \\\n",
       "count  334.000000  334.000000  334.000000  334.000000  334.000000  334.000000   \n",
       "mean     3.508231   11.791916   10.980599    0.050898    0.549107    6.239428   \n",
       "std      7.996200   23.637419    6.826226    0.220120    0.114523    0.707043   \n",
       "min      0.006320    0.000000    0.740000    0.000000    0.385000    3.561000   \n",
       "25%      0.082492    0.000000    5.190000    0.000000    0.448000    5.854500   \n",
       "50%      0.234405    0.000000    9.125000    0.000000    0.524000    6.170500   \n",
       "75%      2.709347   19.500000   18.100000    0.000000    0.624000    6.615750   \n",
       "max     73.534100  100.000000   27.740000    1.000000    0.871000    8.780000   \n",
       "\n",
       "              AGE         DIS         RAD         TAX     PTRATIO           B  \\\n",
       "count  334.000000  334.000000  334.000000  334.000000  334.000000  334.000000   \n",
       "mean    67.150299    3.907874    9.155689  404.751497   18.463174  353.808862   \n",
       "std     28.889297    2.162850    8.522696  165.600666    2.147068   95.818304   \n",
       "min      2.900000    1.137000    1.000000  187.000000   12.600000    0.320000   \n",
       "25%     42.250000    2.114675    4.000000  279.000000   17.400000  374.462500   \n",
       "50%     73.900000    3.376500    5.000000  330.000000   19.000000  391.190000   \n",
       "75%     93.800000    5.372350    8.000000  666.000000   20.200000  395.735000   \n",
       "max    100.000000   12.126500   24.000000  711.000000   22.000000  396.900000   \n",
       "\n",
       "            LSTAT        MEDV  \n",
       "count  334.000000  334.000000  \n",
       "mean    12.888862   22.045808  \n",
       "std      7.270466    8.587299  \n",
       "min      1.730000    5.000000  \n",
       "25%      7.182500   16.850000  \n",
       "50%     11.645000   21.200000  \n",
       "75%     17.157500   24.800000  \n",
       "max     37.970000   50.000000  "
      ]
     },
     "execution_count": 10,
     "metadata": {},
     "output_type": "execute_result"
    }
   ],
   "source": [
    "# leave the following line untouched, it will help ensure that your \"random\" split is the same \"random\" split used by the rest of the class\n",
    "\n",
    "np.random.seed(seed=13579)\n",
    "\n",
    "bdata_train = bd_df1.sample(frac = 0.66, random_state = 13579) # Frac keyword argument specifies the fraction of rows to return in the random sample frac=1 means return all rows in random order \n",
    "bdata_test = bd_df1.drop(bdata_train.index)\n",
    "bdata_train.describe()"
   ]
  },
  {
   "cell_type": "code",
   "execution_count": null,
   "metadata": {
    "collapsed": false
   },
   "outputs": [],
   "source": []
  },
  {
   "cell_type": "markdown",
   "metadata": {
    "ein.tags": [
     "worksheet-0"
    ],
    "slideshow": {
     "slide_type": "-"
    }
   },
   "source": [
    "### 2.3 Use a trivial baseline model for prediction, and compute RMSE\n",
    "Create a model that predicts, for every observation x_i, that the median home value is the average (mean) of the median values for all instances in the training set.  Compute the RMSE on the training set.  Now compute the RMSE on the test data set (but use the model you trained on the training set!).  How does RMSE compare for training vs. testing datasets? Is this what you expected, and why?"
   ]
  },
  {
   "cell_type": "code",
   "execution_count": 15,
   "metadata": {
    "collapsed": false
   },
   "outputs": [
    {
     "name": "stdout",
     "output_type": "stream",
     "text": [
      "('The RMSE value for training data set:', 8.5744344154073122)\n"
     ]
    }
   ],
   "source": [
    "#Mean of MEDV in Training Data\n",
    "mean_train_MEDV = bdata_train['MEDV'].mean()\n",
    "# Creating the Predicted MEDV values, which is the same as the mean MEDV of Training data for the length of the Training array\n",
    "train_prediction = np.repeat(mean_train_MEDV,len(bdata_train))\n",
    "# Calculating the RMSE of training data predictions\n",
    "rmse_train = compute_rmse(train_prediction, bdata_train['MEDV'])\n",
    "print('The RMSE value for training data set:',rmse_train)"
   ]
  },
  {
   "cell_type": "code",
   "execution_count": 18,
   "metadata": {
    "collapsed": false
   },
   "outputs": [
    {
     "ename": "TypeError",
     "evalue": "'float' object has no attribute '__getitem__'",
     "output_type": "error",
     "traceback": [
      "\u001b[1;31m---------------------------------------------------------------------------\u001b[0m",
      "\u001b[1;31mTypeError\u001b[0m                                 Traceback (most recent call last)",
      "\u001b[1;32m<ipython-input-18-519edf79e572>\u001b[0m in \u001b[0;36m<module>\u001b[1;34m()\u001b[0m\n\u001b[0;32m      1\u001b[0m \u001b[1;31m# Calculating the RMSE of test data (use the predictions from the training data and test it against MEDV in test dataset)\u001b[0m\u001b[1;33m\u001b[0m\u001b[1;33m\u001b[0m\u001b[0m\n\u001b[1;32m----> 2\u001b[1;33m \u001b[0mrmse_test\u001b[0m \u001b[1;33m=\u001b[0m \u001b[0mcompute_rmse\u001b[0m\u001b[1;33m(\u001b[0m\u001b[0mmean_train_MEDV\u001b[0m\u001b[1;33m[\u001b[0m\u001b[1;33m:\u001b[0m\u001b[0mlen\u001b[0m\u001b[1;33m(\u001b[0m\u001b[0mbdata_test\u001b[0m\u001b[1;33m)\u001b[0m\u001b[1;33m]\u001b[0m\u001b[1;33m,\u001b[0m \u001b[0mbdata_test\u001b[0m\u001b[1;33m[\u001b[0m\u001b[1;34m'MEDV'\u001b[0m\u001b[1;33m]\u001b[0m\u001b[1;33m)\u001b[0m\u001b[1;33m\u001b[0m\u001b[0m\n\u001b[0m\u001b[0;32m      3\u001b[0m \u001b[1;32mprint\u001b[0m\u001b[1;33m(\u001b[0m\u001b[1;34m'The RMSE value for test data set:'\u001b[0m\u001b[1;33m,\u001b[0m\u001b[0mrmse_test\u001b[0m\u001b[1;33m)\u001b[0m\u001b[1;33m\u001b[0m\u001b[0m\n",
      "\u001b[1;31mTypeError\u001b[0m: 'float' object has no attribute '__getitem__'"
     ]
    }
   ],
   "source": [
    "# Calculating the RMSE of test data (use the predictions from the training data and test it against MEDV in test dataset)\n",
    "rmse_test = compute_rmse(mean_train_MEDV[:len(bdata_test)], bdata_test['MEDV'])\n",
    "print('The RMSE value for test data set:',rmse_test)"
   ]
  },
  {
   "cell_type": "markdown",
   "metadata": {
    "ein.tags": [
     "worksheet-0"
    ],
    "slideshow": {
     "slide_type": "-"
    }
   },
   "source": [
    "The RMSE of test dataset is higher than the RMSE of the training data set. It is expected for any model being tested on a test data to have a RMSE greater than the training RMSE as the model is seeing the test data for the first time. The model fitness will be assessed by the RMSE of test data set, it should be minimal or as close to training RMSE to be considered a good model. Mean model of prediction is not an effective model. \n"
   ]
  },
  {
   "cell_type": "markdown",
   "metadata": {
    "ein.tags": [
     "worksheet-0"
    ],
    "slideshow": {
     "slide_type": "-"
    }
   },
   "source": [
    "##Part 3: Nearest Neighbors\n"
   ]
  },
  {
   "cell_type": "markdown",
   "metadata": {
    "ein.tags": [
     "worksheet-0"
    ],
    "slideshow": {
     "slide_type": "-"
    }
   },
   "source": [
    "### 3.1 Nearest Neighbors: Distance function\n",
    "Let's try and build a machine learning algorithm to beat the \"Average\n",
    "Value\" baseline that you computed above.  Soon you will implement the\n",
    "Nearest Neighbor algorithm, but first you need to create a distance\n",
    "metric to measure the distance (and similarity) between two instances.\n",
    "Write a generic function to compute the Lp-Norm distance. Verify that\n",
    "your function works by computing the L-2 (Euclidean) distance and L-1 (Manhattan) distance between the points (3,4) and (6,8), and between (6,8) and (3,4).  Ensure that your distance is correct and positive in both cases!\n"
   ]
  },
  {
   "cell_type": "code",
   "execution_count": 19,
   "metadata": {
    "autoscroll": "json-false",
    "collapsed": false,
    "ein.tags": [
     "worksheet-0"
    ],
    "slideshow": {
     "slide_type": "-"
    }
   },
   "outputs": [
    {
     "name": "stdout",
     "output_type": "stream",
     "text": [
      "The distance between ((3,4),(5,9),1) is \n"
     ]
    },
    {
     "data": {
      "text/plain": [
       "7"
      ]
     },
     "execution_count": 19,
     "metadata": {},
     "output_type": "execute_result"
    }
   ],
   "source": [
    "# Function\n",
    "# x1, x2 : array , Array of numerical values corresponding to predictions for each of the N observations\n",
    "# L=1: Manhatten distance\n",
    "# L=2: Euclidean distance\n",
    "def distance(x1,x2,L):   \n",
    "    if L == 1: \n",
    "       return abs(np.sum(x1-x2))\n",
    "    if L == 2:\n",
    "       return np.sqrt(np.sum((x1-x2)**2))\n",
    "\n",
    "#Example\n",
    "print \"The distance between ((3,4),(5,9),1) is \" \n",
    "x1 = np.array([3,4])\n",
    "x2 = np.array([5,9])\n",
    "L = 1\n",
    "distance(x1,x2,L)\n"
   ]
  },
  {
   "cell_type": "markdown",
   "metadata": {
    "ein.tags": [
     "worksheet-0"
    ],
    "slideshow": {
     "slide_type": "-"
    }
   },
   "source": [
    "### 3.2 Basic Nearest Neighbor algorithm\n",
    "\n",
    "Now things get fun.  Your task is to implement a basic nearest neighbor algorithm from scratch.  Your simple model will use two input features (CRIM and RM) and a single output (MEDV).  In other words, you are modelling the relationship between median home value and crime rates and house size.\n",
    "\n",
    "Use your training data (bdata_train) to \"fit\" your model, although as\n",
    "you know, with Nearest Neighbors there is no real training, you just\n",
    "need to keep your training data in memory.  Write a function that\n",
    "predicts, for each instance in the testing data (bdata_test), the\n",
    "median home value using the nearest neighbor algorithm we discussed in\n",
    "class.  Since this is a small dataset, you can simply compare your\n",
    "test instance to every instance in the training set, and return the\n",
    "MEDV value of the closest training instance.  You can just loop over\n",
    "the instances to find the nearest neighbor.  Have your function take L as an input, where L is passed to the distance function.\n",
    "\n",
    "Compute the RMSE for the Nearest Neighbor predictions on the test set, using the Euclidean distance.  Report an estimate of the total time taken by your code to predict the nearest neighbors for all the values in the test data set.\n",
    "\n",
    "Plot the true vs predicted price for your test data\n"
   ]
  },
  {
   "cell_type": "code",
   "execution_count": 20,
   "metadata": {
    "autoscroll": "json-false",
    "collapsed": false,
    "ein.tags": [
     "worksheet-0"
    ],
    "slideshow": {
     "slide_type": "-"
    }
   },
   "outputs": [
    {
     "name": "stdout",
     "output_type": "stream",
     "text": [
      "7.40172041598\n",
      "0.000673525364324\n"
     ]
    }
   ],
   "source": [
    "import timeit\n",
    "train_matrix = bdata_train.as_matrix(('CRIM','RM','MEDV'))\n",
    "test_matrix = bdata_test.as_matrix(('CRIM','RM','MEDV'))\n",
    "#loop to get the distance\n",
    "#top_k_nearest = dist[:k]\n",
    "#index = [top_k_nearest[j][0] for j in range(k)]\n",
    "def NN(test_matrix, train_matrix,L):\n",
    "    row_num, col_num = train_matrix.shape\n",
    "    pred = []\n",
    "    for i in range (len(test_matrix)):\n",
    "            dist = []\n",
    "            for j in range(len(train_matrix)):\n",
    "                    dist.append((j,distance(test_matrix[i], train_matrix[j,:col_num-1], L)))\n",
    "            dist = sorted(dist,key=lambda x:x[1])\n",
    "            index=dist[0][0]\n",
    "            pred.append(train_matrix[index,col_num-1])\n",
    "    return pred\n",
    "\n",
    "pred = NN(test_matrix[:,:2],train_matrix[:,:],2)\n",
    "start_time = timeit.default_timer()\n",
    "RMSE = compute_rmse(pred,bdata_test['MEDV'])\n",
    "Total_run_time = timeit.default_timer()-start_time\n",
    "print RMSE\n",
    "print Total_run_time \n"
   ]
  },
  {
   "cell_type": "code",
   "execution_count": 21,
   "metadata": {
    "collapsed": false
   },
   "outputs": [
    {
     "data": {
      "image/png": "[encoded data removed]",
      "text/plain": [
       "<matplotlib.figure.Figure at 0xc47f240>"
      ]
     },
     "metadata": {},
     "output_type": "display_data"
    }
   ],
   "source": [
    "import matplotlib.pyplot\n",
    "matplotlib.pyplot.scatter([pred],[bdata_test['MEDV']],color=['red','green'])\n",
    "plt.xlabel('Predicted Median House Value')\n",
    "plt.ylabel('Observed Median House Value')\n",
    "plt.title('Nearest Neighbor model prediction of Median House Value')\n",
    "plt.show()"
   ]
  },
  {
   "cell_type": "markdown",
   "metadata": {
    "ein.tags": [
     "worksheet-0"
    ],
    "slideshow": {
     "slide_type": "-"
    }
   },
   "source": [
    "### 3.3 Results and Normalization\n",
    "\n",
    "If you were being astute, you would have noticed that we never normalized our features -- a big no-no with Nearest Neighbor algorithms.  Normalization is similar to Mahalanobis disctance (if the features are independent).  Read more in Daume (2017), _A Course in Machine Learning_ Chapter 4.3.  Write a simple generic normalization function that takes as input an array of values for a given feature, and returns the normalized array.  Do it well, you will need it in the future as well ;-)\n",
    "\n",
    "Re-run the Nearest Neighbor algorithm on the normalized dataset (still just using CRIM and RM as input), and compare the RMSE from this method with your previous RMSE evaluations.\n",
    "\n",
    "*NOTE*: To normalize properly, best practice is to compute the mean and standard deviation on the training set, and use these values to normalize the testing dataset. However, for this problem set, it is okay if you separately normalize each dataset using the respective mean and standard deviation."
   ]
  },
  {
   "cell_type": "code",
   "execution_count": 22,
   "metadata": {
    "autoscroll": "json-false",
    "collapsed": false,
    "ein.tags": [
     "worksheet-0"
    ],
    "slideshow": {
     "slide_type": "-"
    }
   },
   "outputs": [],
   "source": [
    "def norm(x):\n",
    "    row_num, col_num =  x.shape\n",
    "    for i in range(col_num - 1):\n",
    "        mean = np.mean(x[:,i])\n",
    "        std = np.std(x[:,i])\n",
    "        x[:,i] = (x[:,i]-mean)/std\n",
    "    return x"
   ]
  },
  {
   "cell_type": "code",
   "execution_count": 23,
   "metadata": {
    "collapsed": true
   },
   "outputs": [],
   "source": [
    "norm_train_matrix = bdata_train.as_matrix(columns=('CRIM','RM','MEDV'))\n",
    "norm_test_matrix = bdata_test.as_matrix(columns=('CRIM','RM','MEDV'))\n",
    "norm_train_data = norm(norm_train_matrix)\n",
    "norm_test_data = norm(norm_test_matrix)"
   ]
  },
  {
   "cell_type": "code",
   "execution_count": 24,
   "metadata": {
    "collapsed": false
   },
   "outputs": [
    {
     "data": {
      "text/plain": [
       "7.6927555773008294"
      ]
     },
     "execution_count": 24,
     "metadata": {},
     "output_type": "execute_result"
    }
   ],
   "source": [
    "# use nearest neighbor and RMSE function\n",
    "norm_pred = NN(norm_test_data[:,:2],norm_train_data[:,:],2)\n",
    "compute_rmse(norm_pred,norm_test_data[:,2])"
   ]
  },
  {
   "cell_type": "markdown",
   "metadata": {
    "ein.tags": [
     "worksheet-0"
    ],
    "slideshow": {
     "slide_type": "-"
    }
   },
   "source": [
    "### 3.4 Optimization\n",
    "\n",
    "\n",
    "A lot of the decisions we've made so far have been arbitrary.  Try to increase the performance of your nearest neighbor algorithm by adding features that you think might be relevant, and by using different values of L in the distance function.  Try a model that uses a different set of 2 features, then try at least one model that uses more than 4 features, then try using a different value of L.  If you're having fun, try a few different combinations of features and L!  \n",
    "\n",
    "What combination of features and distance function provide the lowest RMSE?  Compre RMSEs with the corresponding true-predicted plots.\n",
    "\n",
    "Do your decisions affect the running time of the algorithm?"
   ]
  },
  {
   "cell_type": "code",
   "execution_count": 25,
   "metadata": {
    "autoscroll": "json-false",
    "collapsed": false,
    "ein.tags": [
     "worksheet-0"
    ],
    "slideshow": {
     "slide_type": "-"
    }
   },
   "outputs": [
    {
     "name": "stdout",
     "output_type": "stream",
     "text": [
      "7.90036428362\n",
      "0.000786421044438\n"
     ]
    }
   ],
   "source": [
    "'''\n",
    "6 - AGE      proportion of owner-occupied units built prior to 1940\n",
    "11 - B        1000(Bk - 0.63)^2 where Bk is the proportion of blacks by town\n",
    "9 - TAX      full-value property-tax rate per $10,000\n",
    "3 - CHAS     Charles River dummy variable (= 1 if tract bounds river; 0 otherwise)\n",
    "5 - NOX      nitric oxides concentration (parts per 10 million)\n",
    "'''\n",
    "#With 4 variables\n",
    "new_test_matrix = bdata_test.as_matrix(columns=('CRIM','NOX','RM','DIS','MEDV'))\n",
    "new_train_matrix = bdata_train.as_matrix(columns=('CRIM','NOX','RM','DIS','MEDV'))\n",
    "new_norm_test_matrix = norm(new_test_matrix)\n",
    "new_norm_train_matrix = norm(new_train_matrix)\n",
    "pred1 = NN(new_norm_test_matrix[:,:4],new_norm_train_matrix[:,:],2)\n",
    "start_time1 = timeit.default_timer()\n",
    "RMSE_new = compute_rmse(pred1,new_test_matrix[:,4])\n",
    "run_time_new = timeit.default_timer() - start_time1\n",
    "print RMSE_new\n",
    "print run_time_new\n",
    "\n",
    "\n"
   ]
  },
  {
   "cell_type": "code",
   "execution_count": 26,
   "metadata": {
    "collapsed": false
   },
   "outputs": [
    {
     "name": "stdout",
     "output_type": "stream",
     "text": [
      "12.8964953776\n",
      "0.000470398667147\n"
     ]
    }
   ],
   "source": [
    "#With 4 variables and using manhatten distance\n",
    "new_test_matrix = bdata_test.as_matrix(columns=('CRIM','NOX','RM','DIS','MEDV'))\n",
    "new_train_matrix = bdata_train.as_matrix(columns=('CRIM','NOX','RM','DIS','MEDV'))\n",
    "new_norm_test_matrix = norm(new_test_matrix)\n",
    "new_norm_train_matrix = norm(new_train_matrix)\n",
    "pred1 = NN(new_norm_test_matrix[:,:4],new_norm_train_matrix[:,:],1)\n",
    "start_time1 = timeit.default_timer()\n",
    "RMSE_new1 = compute_rmse(pred1,new_test_matrix[:,4])\n",
    "run_time_new1 = timeit.default_timer() - start_time1\n",
    "print RMSE_new1\n",
    "print run_time_new1"
   ]
  },
  {
   "cell_type": "code",
   "execution_count": 27,
   "metadata": {
    "collapsed": false
   },
   "outputs": [
    {
     "name": "stdout",
     "output_type": "stream",
     "text": [
      "13.476562342\n",
      "0.00035279900036\n"
     ]
    }
   ],
   "source": [
    "#With 2 variables and using manhatten distance\n",
    "new_test_matrix = bdata_test.as_matrix(columns=('CRIM','MEDV'))\n",
    "new_train_matrix = bdata_train.as_matrix(columns=('CRIM','MEDV'))\n",
    "new_norm_test_matrix = norm(new_test_matrix)\n",
    "new_norm_train_matrix = norm(new_train_matrix)\n",
    "pred1 = NN(new_norm_test_matrix[:,:1],new_norm_train_matrix[:,:],1)\n",
    "start_time1 = timeit.default_timer()\n",
    "RMSE_new1 = compute_rmse(pred1,new_test_matrix[:,1])\n",
    "run_time_new1 = timeit.default_timer() - start_time1\n",
    "print RMSE_new1\n",
    "print run_time_new1\n",
    "\n",
    "\n"
   ]
  },
  {
   "cell_type": "markdown",
   "metadata": {},
   "source": [
    "The combination of the 4 variables 'CRIM','NOX','RM','DIS','MEDV' and Euclidean distance choice has the lowest RMSE 7.90036428362. Yes my decisions affect the running time of the algorithm but only slightly."
   ]
  },
  {
   "cell_type": "markdown",
   "metadata": {
    "ein.tags": [
     "worksheet-0"
    ],
    "slideshow": {
     "slide_type": "-"
    }
   },
   "source": [
    "### 3.5 Cross-Validation\n",
    "\n",
    "The more you tinkered with your features and distance function, the higher the risk that you overfit your training data.  To prevent this sort of overfitting, you need to use cross-validation (see Daume (2017) _A Course in Machine Learning_, Ch 4.6).  Here you must implement a simple k-fold cross-validation algorithm yourself.  Essentially you have to partition your dataset into 10 equally-sized samples, and for each of 10 iterations (the \"folds\"), use 9 samples as \"training data\" (even though there is no training in k-NN!), and the remaining 1 sample for testing.  The function you write here will be used several more times in this problem set, so do your best to write efficient code! (Note that the sklearn package has a built-in K-fold iterator -- do *not* use that here.)\n",
    "\n",
    "Use Euclidean distance with CRIM and RM (0 and 5) as features.  Compute the RMSE of that particular test set, then move on to the next iteration.  Report the average RMSE across the 10 iterations, and the total running time for all 10 iterations.  Compare the k-fold RMSE with the training-testing split RMSE above for the same hyperparameter values."
   ]
  },
  {
   "cell_type": "code",
   "execution_count": 32,
   "metadata": {
    "autoscroll": "json-false",
    "collapsed": false,
    "ein.tags": [
     "worksheet-0"
    ],
    "slideshow": {
     "slide_type": "-"
    }
   },
   "outputs": [
    {
     "ename": "IndentationError",
     "evalue": "expected an indented block (<ipython-input-32-fe0613f20142>, line 4)",
     "output_type": "error",
     "traceback": [
      "\u001b[1;36m  File \u001b[1;32m\"<ipython-input-32-fe0613f20142>\"\u001b[1;36m, line \u001b[1;32m4\u001b[0m\n\u001b[1;33m    features = features + ['MEDV']\u001b[0m\n\u001b[1;37m           ^\u001b[0m\n\u001b[1;31mIndentationError\u001b[0m\u001b[1;31m:\u001b[0m expected an indented block\n"
     ]
    }
   ],
   "source": [
    "def k_cross_validation(data,features,fold,k,choice):\n",
    "    \n",
    "#Set the features\n",
    "features = features + ['MEDV']\n",
    "t_data = bdata_df[features]\n",
    "len_features = len(features)\n",
    "    \n",
    "#Initialize the index variables\n",
    "t_index = list(t_data.index)\n",
    "\n",
    "   \n",
    "np.random.shuffle(t_index)\n",
    "rem = []\n",
    "partition = int(len(t_index)/fold)\n",
    "remainder = []\n",
    "rmse_list = []\n",
    "    \n",
    "#Setting the indexes for the K fold cross validation\n",
    "for i in range(1,fold+1):\n",
    "        test = t_index[(i-1)*partition:i*partition]\n",
    "        test_data = norm(t_data.iloc[test].as_matrix())\n",
    "        remainder = remainder + test\n",
    "        rem = set(remainder) ^ set(test)\n",
    "        train = list(rem) + t_index[i*partition:]\n",
    "        train_data = norm(t_data.iloc[train].as_matrix())\n",
    "print('Iteration number:',i,'Test index start:', (i-1)*partition)\n",
    "        \n",
    "#Call the nearest neighbor function\n",
    "if k == 1:\n",
    "    pred3 = NN(test_data[:,:len_features-1],train_data[:,:],choice)\n",
    "else:\n",
    "    pred3 = k_nearest_neighbor(test_data[:,:len_features-1],train_data[:,:],k,choice)\n",
    "    \n",
    "rmse_value = compute_rmse(pred3,test_data[:,len_features-1])\n",
    "rmse_list.append(rmse_value)\n",
    "        \n",
    "average = np.mean(rmse_list)    \n",
    "    \n",
    "print rmse_list\n",
    "print average"
   ]
  },
  {
   "cell_type": "markdown",
   "metadata": {
    "ein.tags": [
     "worksheet-0"
    ],
    "slideshow": {
     "slide_type": "-"
    }
   },
   "source": [
    "### 3.6 K-Nearest Neighbors Algorithm\n",
    "\n",
    "Implement the K-Nearest Neighbors algorithm.  Using 10-fold cross validation, report the RMSE for K=3 and the running time of the algorithm."
   ]
  },
  {
   "cell_type": "code",
   "execution_count": 38,
   "metadata": {
    "autoscroll": "json-false",
    "collapsed": false,
    "ein.tags": [
     "worksheet-0"
    ],
    "slideshow": {
     "slide_type": "-"
    }
   },
   "outputs": [
    {
     "ename": "NameError",
     "evalue": "name 'col_num' is not defined",
     "output_type": "error",
     "traceback": [
      "\u001b[1;31m---------------------------------------------------------------------------\u001b[0m",
      "\u001b[1;31mNameError\u001b[0m                                 Traceback (most recent call last)",
      "\u001b[1;32m<ipython-input-38-dfc3bc9b61bb>\u001b[0m in \u001b[0;36m<module>\u001b[1;34m()\u001b[0m\n\u001b[0;32m      5\u001b[0m     \u001b[0mdist\u001b[0m\u001b[1;33m=\u001b[0m\u001b[1;33m[\u001b[0m\u001b[1;33m]\u001b[0m\u001b[1;33m\u001b[0m\u001b[0m\n\u001b[0;32m      6\u001b[0m \u001b[1;32mfor\u001b[0m \u001b[0mj\u001b[0m \u001b[1;32min\u001b[0m \u001b[0mrange\u001b[0m\u001b[1;33m(\u001b[0m\u001b[0mlen\u001b[0m\u001b[1;33m(\u001b[0m\u001b[0mtrain_matrix\u001b[0m\u001b[1;33m)\u001b[0m\u001b[1;33m)\u001b[0m\u001b[1;33m:\u001b[0m\u001b[1;33m\u001b[0m\u001b[0m\n\u001b[1;32m----> 7\u001b[1;33m     \u001b[0mdist\u001b[0m\u001b[1;33m.\u001b[0m\u001b[0mappend\u001b[0m\u001b[1;33m(\u001b[0m\u001b[1;33m(\u001b[0m\u001b[0mj\u001b[0m\u001b[1;33m,\u001b[0m\u001b[0mdistance\u001b[0m\u001b[1;33m(\u001b[0m\u001b[0mtest_matrix\u001b[0m\u001b[1;33m[\u001b[0m\u001b[0mi\u001b[0m\u001b[1;33m]\u001b[0m\u001b[1;33m,\u001b[0m\u001b[0mtrain_matrix\u001b[0m\u001b[1;33m[\u001b[0m\u001b[0mj\u001b[0m\u001b[1;33m,\u001b[0m\u001b[1;33m:\u001b[0m\u001b[0mcol_num\u001b[0m\u001b[1;33m-\u001b[0m\u001b[1;36m1\u001b[0m\u001b[1;33m]\u001b[0m\u001b[1;33m,\u001b[0m\u001b[0mchoice\u001b[0m\u001b[1;33m)\u001b[0m\u001b[1;33m)\u001b[0m\u001b[1;33m)\u001b[0m\u001b[1;33m\u001b[0m\u001b[0m\n\u001b[0m\u001b[0;32m      8\u001b[0m     \u001b[0mdist\u001b[0m \u001b[1;33m=\u001b[0m \u001b[0msorted\u001b[0m\u001b[1;33m(\u001b[0m\u001b[0mdist\u001b[0m\u001b[1;33m,\u001b[0m \u001b[0mkey\u001b[0m\u001b[1;33m=\u001b[0m\u001b[1;32mlambda\u001b[0m \u001b[0mx\u001b[0m\u001b[1;33m:\u001b[0m \u001b[0mx\u001b[0m\u001b[1;33m[\u001b[0m\u001b[1;36m1\u001b[0m\u001b[1;33m]\u001b[0m\u001b[1;33m)\u001b[0m\u001b[1;33m\u001b[0m\u001b[0m\n\u001b[0;32m      9\u001b[0m     \u001b[0mtop_k_nearest\u001b[0m \u001b[1;33m=\u001b[0m \u001b[0mdist\u001b[0m\u001b[1;33m[\u001b[0m\u001b[1;33m:\u001b[0m\u001b[0mk\u001b[0m\u001b[1;33m]\u001b[0m\u001b[1;33m\u001b[0m\u001b[0m\n",
      "\u001b[1;31mNameError\u001b[0m: name 'col_num' is not defined"
     ]
    }
   ],
   "source": [
    "def k_nearest_neighbor(test_matrix,train_matrix,k,choice):\n",
    "    row_num,col_num = train_matrix.shape\n",
    "pred = []\n",
    "for i in range(len(test_matrix)):\n",
    "    dist=[]\n",
    "for j in range(len(train_matrix)):\n",
    "    dist.append((j,distance(test_matrix[i],train_matrix[j,:col_num-1],choice)))\n",
    "    dist = sorted(dist, key=lambda x: x[1])\n",
    "    top_k_nearest = dist[:k]\n",
    "    index = [top_k_nearest[j][0] for j in range(k)]\n",
    "pred_a = train_matrix[index,col_num-1]    \n",
    "return np.mean(pred_a)\n",
    "rmse_list_values = k_cross_validation(t_data,['CRIM','RM'],10,3,2)"
   ]
  },
  {
   "cell_type": "markdown",
   "metadata": {
    "ein.tags": [
     "worksheet-0"
    ],
    "slideshow": {
     "slide_type": "-"
    }
   },
   "source": [
    "### 3.7 Using cross validation to find K\n",
    "\n",
    "What is the best choice of K?  Compute the RMSE for values of K between 1 and 25 using 10-fold cross-validation.  Use the following features in your model, and don't forget to normalize: CRIM, ZN, RM, AGE, DIS, TAX.  Create a graph that shows how RMSE changes as K increases from 1 to 25.  Label your axes, and summarize what you see.  What do you think is a reasonable choice of K for this model?"
   ]
  },
  {
   "cell_type": "code",
   "execution_count": 39,
   "metadata": {
    "autoscroll": "json-false",
    "collapsed": false,
    "ein.tags": [
     "worksheet-0"
    ],
    "slideshow": {
     "slide_type": "-"
    }
   },
   "outputs": [
    {
     "name": "stdout",
     "output_type": "stream",
     "text": [
      "(1, 'Nearest Neighbor')\n"
     ]
    },
    {
     "ename": "NameError",
     "evalue": "name 'k_cross_validation' is not defined",
     "output_type": "error",
     "traceback": [
      "\u001b[1;31m---------------------------------------------------------------------------\u001b[0m",
      "\u001b[1;31mNameError\u001b[0m                                 Traceback (most recent call last)",
      "\u001b[1;32m<ipython-input-39-01eff656d2e5>\u001b[0m in \u001b[0;36m<module>\u001b[1;34m()\u001b[0m\n\u001b[0;32m     10\u001b[0m \u001b[1;32mfor\u001b[0m \u001b[0mi\u001b[0m \u001b[1;32min\u001b[0m \u001b[0mrange\u001b[0m\u001b[1;33m(\u001b[0m\u001b[1;36m1\u001b[0m\u001b[1;33m,\u001b[0m\u001b[1;36m26\u001b[0m\u001b[1;33m)\u001b[0m\u001b[1;33m:\u001b[0m\u001b[1;33m\u001b[0m\u001b[0m\n\u001b[0;32m     11\u001b[0m     \u001b[1;32mprint\u001b[0m\u001b[1;33m(\u001b[0m\u001b[0mi\u001b[0m\u001b[1;33m,\u001b[0m\u001b[1;34m\"Nearest Neighbor\"\u001b[0m\u001b[1;33m)\u001b[0m\u001b[1;33m\u001b[0m\u001b[0m\n\u001b[1;32m---> 12\u001b[1;33m     \u001b[0mnew_rmse\u001b[0m \u001b[1;33m=\u001b[0m \u001b[0mk_cross_validation\u001b[0m\u001b[1;33m(\u001b[0m\u001b[0mt_data\u001b[0m\u001b[1;33m,\u001b[0m\u001b[1;33m[\u001b[0m\u001b[1;34m'CRIM'\u001b[0m\u001b[1;33m,\u001b[0m\u001b[1;34m'RM'\u001b[0m\u001b[1;33m,\u001b[0m\u001b[1;34m'ZN'\u001b[0m\u001b[1;33m,\u001b[0m\u001b[1;34m'AGE'\u001b[0m\u001b[1;33m,\u001b[0m\u001b[1;34m'DIS'\u001b[0m\u001b[1;33m,\u001b[0m\u001b[1;34m'TAX'\u001b[0m\u001b[1;33m]\u001b[0m\u001b[1;33m,\u001b[0m\u001b[1;36m10\u001b[0m\u001b[1;33m,\u001b[0m\u001b[0mi\u001b[0m\u001b[1;33m,\u001b[0m\u001b[1;36m2\u001b[0m\u001b[1;33m)\u001b[0m\u001b[1;33m\u001b[0m\u001b[0m\n\u001b[0m\u001b[0;32m     13\u001b[0m     \u001b[1;32mprint\u001b[0m\u001b[1;33m(\u001b[0m\u001b[1;34m\"NEW RMSE\"\u001b[0m\u001b[1;33m,\u001b[0m\u001b[0mnew_rmse\u001b[0m\u001b[1;33m)\u001b[0m\u001b[1;33m\u001b[0m\u001b[0m\n\u001b[0;32m     14\u001b[0m     \u001b[0mrmse_array_307\u001b[0m\u001b[1;33m.\u001b[0m\u001b[0mappend\u001b[0m\u001b[1;33m(\u001b[0m\u001b[0mnew_rmse\u001b[0m\u001b[1;33m)\u001b[0m\u001b[1;33m\u001b[0m\u001b[0m\n",
      "\u001b[1;31mNameError\u001b[0m: name 'k_cross_validation' is not defined"
     ]
    }
   ],
   "source": [
    "'''\n",
    "CRIM - 0\n",
    "ZN - 1\n",
    "RM - 5\n",
    "AGE - 6\n",
    "DIS - 7\n",
    "TAX - 9\n",
    "'''\n",
    "rmse_array_307 = []\n",
    "for i in range(1,26):\n",
    "    print(i,\"Nearest Neighbor\")\n",
    "    new_rmse = k_cross_validation(t_data,['CRIM','RM','ZN','AGE','DIS','TAX'],10,i,2)\n",
    "    print(\"NEW RMSE\",new_rmse)\n",
    "    rmse_array_307.append(new_rmse)\n"
   ]
  },
  {
   "cell_type": "markdown",
   "metadata": {
    "ein.tags": [
     "worksheet-0"
    ],
    "slideshow": {
     "slide_type": "-"
    }
   },
   "source": [
    "### Extra-Credit: Forward selection\n",
    "\n",
    "Thus far the choice of predictor variables has been rather arbitrary. For extra credit, implement a basic [forward selection](http://www.stat.ubc.ca/~rollin/teach/643w04/lec/node41.html) algorithm to progressively include features that decrease the cross-validated RMSE of the model. Note that the optimal value of K may be different for each model, so you may want to use cross-validation to choose K each time (but it is also fine if you fix K at the optimal value from 2.7).  Create a graph that shows RMSE as a function of the number of features in the model. Label each point on the x-axis with the name of the feature that is added at that step in the forward selection algorithm. *(For instance, if the optimal single-feature model has CRIM with RMSE = 10, and the optimal two-feature model has CRIM+ZN with RMSE=9, the first x-axis label will say CRIM and the second x-axis lable with say ZN)*"
   ]
  }
 ],
 "metadata": {
  "anaconda-cloud": {},
  "kernelspec": {
   "display_name": "Python [Root]",
   "language": "python",
   "name": "Python [Root]"
  },
  "language_info": {
   "codemirror_mode": {
    "name": "ipython",
    "version": 2
   },
   "file_extension": ".py",
   "mimetype": "text/x-python",
   "name": "python",
   "nbconvert_exporter": "python",
   "pygments_lexer": "ipython2",
   "version": "2.7.12"
  },
  "name": "infx573-ps3-solutions.ipynb"
 },
 "nbformat": 4,
 "nbformat_minor": 0
}
