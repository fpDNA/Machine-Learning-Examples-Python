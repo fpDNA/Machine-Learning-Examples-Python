{
 "cells": [
  {
   "cell_type": "markdown",
   "metadata": {
    "ein.tags": [
     "worksheet-0"
    ],
    "slideshow": {
     "slide_type": "-"
    }
   },
   "source": [
    "# Problem Set 2, due April 27th at 3:30 pm\n",
    "\n",
    "**Please Note:** This assignment will likely take you a _long_ time, especially if you are new to Python. Start early!"
   ]
  },
  {
   "cell_type": "markdown",
   "metadata": {
    "ein.tags": [
     "worksheet-0"
    ],
    "slideshow": {
     "slide_type": "-"
    }
   },
   "source": [
    "## Introduction to the assignment\n",
    "\n",
    "For this assignment, you will be using data from the [Progresa program](http://en.wikipedia.org/wiki/Oportunidades), a government social assistance program in Mexico. This program, as well as the details of its impact, are described in the paper \"[School subsidies for the poor: evaluating the Mexican Progresa poverty program](http://www.sciencedirect.com/science/article/pii/S0304387803001858)\", by Paul Shultz (available on Canvas). Please familiarize yourself with the PROGRESA program before beginning this problem set, so you have a rough sense of where the data come from and how they were generated. If you just proceed into the problem set without understanding Progresa or the data, it will be very difficult!\n",
    "\n",
    "The goal of this problem set is to implement some of the basic econometric techniques that you are learning in class to measure the impact of Progresa on secondary school enrollment rates. The timeline of the program was:\n",
    "\n",
    " * Baseline survey conducted in 1997\n",
    " * Intervention begins in 1998, \"Wave 1\" of data collected in 1998\n",
    " * \"Wave 2 of data\" collected in 1999\n",
    " * Evaluation ends in 2000, at which point the control villages were treated. \n",
    " \n",
    "When you are ready, download the progresa_sample.csv data from Canvas. The data are actual data collected to evaluate the impact of the Progresa program.  In this file, each row corresponds to an observation taken for a given child for a given year. There are two years of data (1997 and 1998), and just under 40,000 children who are surveyed in each year. For each child-year observation, the following variables are collected:\n",
    "\n",
    "| Variable name | Description|\n",
    "|---------|---------|\n",
    "|year\t  |year in which data is collected\n",
    "|sex\t  |male = 1|\n",
    "|indig\t  |indigenous = 1|\n",
    "|dist_sec |nearest distance to a secondary school|\n",
    "|sc\t      |enrolled in school in year of survey|\n",
    "|grc      |grade enrolled|\n",
    "|fam_n    |family size|\n",
    "|min_dist |\tmin distance to an urban center|\n",
    "|dist_cap |\tmin distance to the capital|\n",
    "|poor     |\tpoor = 'pobre'|\n",
    "|progresa |treatment = 'basal'|\n",
    "|hohedu\t  |years of schooling of head of household|\n",
    "|hohwag\t  |monthly wages of head of household|\n",
    "|welfare_index|\twelfare index used to classify poor|\n",
    "|hohsex\t  |gender of head of household (male=1)|\n",
    "|hohage   |age of head of household|\n",
    "|age      |years old|\n",
    "|folnum\t  |individual id|\n",
    "|village  |\tvillage id|\n",
    "|sc97\t  |schooling in 1997|"
   ]
  },
  {
   "cell_type": "code",
   "execution_count": 224,
   "metadata": {
    "autoscroll": "json-false",
    "collapsed": false,
    "ein.tags": [
     "worksheet-0"
    ],
    "slideshow": {
     "slide_type": "-"
    }
   },
   "outputs": [
    {
     "name": "stdout",
     "output_type": "stream",
     "text": [
      "2.7.12 |Anaconda 4.1.1 (64-bit)| (default, Jun 29 2016, 11:07:13) [MSC v.1500 64 bit (AMD64)]\n"
     ]
    }
   ],
   "source": [
    "import sys; print(sys.version)\n",
    "%matplotlib inline\n",
    "import matplotlib.pyplot as plt\n",
    "import pandas as pd\n",
    "import numpy as np\n",
    "import tables\n",
    "import scipy.stats"
   ]
  },
  {
   "cell_type": "code",
   "execution_count": 225,
   "metadata": {
    "collapsed": true
   },
   "outputs": [],
   "source": [
    "p_df = pd.read_csv('progresa_sample.csv')"
   ]
  },
  {
   "cell_type": "code",
   "execution_count": 302,
   "metadata": {
    "collapsed": false
   },
   "outputs": [
    {
     "name": "stdout",
     "output_type": "stream",
     "text": [
      "(77250, 21)\n",
      "Index([u'year', u'sex', u'indig', u'dist_sec', u'sc', u'grc', u'fam_n',\n",
      "       u'min_dist', u'dist_cap', u'poor', u'progresa', u'hohedu', u'hohwag',\n",
      "       u'welfare_index', u'hohsex', u'hohage', u'age', u'village', u'folnum',\n",
      "       u'grc97', u'sc97'],\n",
      "      dtype='object')\n",
      "year               int64\n",
      "sex              float64\n",
      "indig            float64\n",
      "dist_sec         float64\n",
      "sc               float64\n",
      "grc              float64\n",
      "fam_n              int64\n",
      "min_dist         float64\n",
      "dist_cap         float64\n",
      "poor              object\n",
      "progresa          object\n",
      "hohedu             int64\n",
      "hohwag           float64\n",
      "welfare_index    float64\n",
      "hohsex           float64\n",
      "hohage           float64\n",
      "age                int64\n",
      "village            int64\n",
      "folnum             int64\n",
      "grc97              int64\n",
      "sc97             float64\n",
      "dtype: object\n"
     ]
    },
    {
     "data": {
      "text/html": [
       "<div>\n",
       "<table border=\"1\" class=\"dataframe\">\n",
       "  <thead>\n",
       "    <tr style=\"text-align: right;\">\n",
       "      <th></th>\n",
       "      <th>year</th>\n",
       "      <th>sex</th>\n",
       "      <th>indig</th>\n",
       "      <th>dist_sec</th>\n",
       "      <th>sc</th>\n",
       "      <th>grc</th>\n",
       "      <th>fam_n</th>\n",
       "      <th>min_dist</th>\n",
       "      <th>dist_cap</th>\n",
       "      <th>hohedu</th>\n",
       "      <th>hohwag</th>\n",
       "      <th>welfare_index</th>\n",
       "      <th>hohsex</th>\n",
       "      <th>hohage</th>\n",
       "      <th>age</th>\n",
       "      <th>village</th>\n",
       "      <th>folnum</th>\n",
       "      <th>grc97</th>\n",
       "      <th>sc97</th>\n",
       "    </tr>\n",
       "  </thead>\n",
       "  <tbody>\n",
       "    <tr>\n",
       "      <th>count</th>\n",
       "      <td>77250.000000</td>\n",
       "      <td>77226.000000</td>\n",
       "      <td>76950.000000</td>\n",
       "      <td>77250.000000</td>\n",
       "      <td>68797.000000</td>\n",
       "      <td>70701.000000</td>\n",
       "      <td>77250.000000</td>\n",
       "      <td>77250.000000</td>\n",
       "      <td>77250.000000</td>\n",
       "      <td>77250.000000</td>\n",
       "      <td>77250.000000</td>\n",
       "      <td>77040.000000</td>\n",
       "      <td>77230.000000</td>\n",
       "      <td>77240.000000</td>\n",
       "      <td>77250.000000</td>\n",
       "      <td>77250.000000</td>\n",
       "      <td>77250.000000</td>\n",
       "      <td>77250.000000</td>\n",
       "      <td>73378.000000</td>\n",
       "    </tr>\n",
       "    <tr>\n",
       "      <th>mean</th>\n",
       "      <td>97.500000</td>\n",
       "      <td>0.512211</td>\n",
       "      <td>0.298324</td>\n",
       "      <td>2.418910</td>\n",
       "      <td>0.819818</td>\n",
       "      <td>3.963537</td>\n",
       "      <td>7.215715</td>\n",
       "      <td>103.447520</td>\n",
       "      <td>147.674452</td>\n",
       "      <td>2.768104</td>\n",
       "      <td>586.985312</td>\n",
       "      <td>690.346564</td>\n",
       "      <td>0.925185</td>\n",
       "      <td>44.436717</td>\n",
       "      <td>11.366460</td>\n",
       "      <td>253.614964</td>\n",
       "      <td>19313.000000</td>\n",
       "      <td>3.705372</td>\n",
       "      <td>0.813922</td>\n",
       "    </tr>\n",
       "    <tr>\n",
       "      <th>std</th>\n",
       "      <td>0.500003</td>\n",
       "      <td>0.499854</td>\n",
       "      <td>0.457525</td>\n",
       "      <td>2.234109</td>\n",
       "      <td>0.384342</td>\n",
       "      <td>2.499063</td>\n",
       "      <td>2.352900</td>\n",
       "      <td>42.089441</td>\n",
       "      <td>76.063134</td>\n",
       "      <td>2.656106</td>\n",
       "      <td>788.133664</td>\n",
       "      <td>139.491130</td>\n",
       "      <td>0.263095</td>\n",
       "      <td>11.620372</td>\n",
       "      <td>3.167744</td>\n",
       "      <td>149.341967</td>\n",
       "      <td>11150.149239</td>\n",
       "      <td>2.572387</td>\n",
       "      <td>0.389172</td>\n",
       "    </tr>\n",
       "    <tr>\n",
       "      <th>min</th>\n",
       "      <td>97.000000</td>\n",
       "      <td>0.000000</td>\n",
       "      <td>0.000000</td>\n",
       "      <td>0.000000</td>\n",
       "      <td>0.000000</td>\n",
       "      <td>0.000000</td>\n",
       "      <td>1.000000</td>\n",
       "      <td>9.465392</td>\n",
       "      <td>9.465392</td>\n",
       "      <td>0.000000</td>\n",
       "      <td>0.000000</td>\n",
       "      <td>180.000000</td>\n",
       "      <td>0.000000</td>\n",
       "      <td>15.000000</td>\n",
       "      <td>6.000000</td>\n",
       "      <td>1.000000</td>\n",
       "      <td>1.000000</td>\n",
       "      <td>0.000000</td>\n",
       "      <td>0.000000</td>\n",
       "    </tr>\n",
       "    <tr>\n",
       "      <th>25%</th>\n",
       "      <td>97.000000</td>\n",
       "      <td>0.000000</td>\n",
       "      <td>0.000000</td>\n",
       "      <td>0.574000</td>\n",
       "      <td>1.000000</td>\n",
       "      <td>2.000000</td>\n",
       "      <td>6.000000</td>\n",
       "      <td>70.518238</td>\n",
       "      <td>92.327050</td>\n",
       "      <td>0.000000</td>\n",
       "      <td>120.000000</td>\n",
       "      <td>597.000000</td>\n",
       "      <td>1.000000</td>\n",
       "      <td>36.000000</td>\n",
       "      <td>9.000000</td>\n",
       "      <td>126.000000</td>\n",
       "      <td>9657.000000</td>\n",
       "      <td>1.000000</td>\n",
       "      <td>1.000000</td>\n",
       "    </tr>\n",
       "    <tr>\n",
       "      <th>50%</th>\n",
       "      <td>97.500000</td>\n",
       "      <td>1.000000</td>\n",
       "      <td>0.000000</td>\n",
       "      <td>2.279000</td>\n",
       "      <td>1.000000</td>\n",
       "      <td>4.000000</td>\n",
       "      <td>7.000000</td>\n",
       "      <td>111.228612</td>\n",
       "      <td>132.001494</td>\n",
       "      <td>2.000000</td>\n",
       "      <td>500.000000</td>\n",
       "      <td>685.000000</td>\n",
       "      <td>1.000000</td>\n",
       "      <td>43.000000</td>\n",
       "      <td>11.000000</td>\n",
       "      <td>257.000000</td>\n",
       "      <td>19313.000000</td>\n",
       "      <td>4.000000</td>\n",
       "      <td>1.000000</td>\n",
       "    </tr>\n",
       "    <tr>\n",
       "      <th>75%</th>\n",
       "      <td>98.000000</td>\n",
       "      <td>1.000000</td>\n",
       "      <td>1.000000</td>\n",
       "      <td>3.582000</td>\n",
       "      <td>1.000000</td>\n",
       "      <td>6.000000</td>\n",
       "      <td>9.000000</td>\n",
       "      <td>138.446009</td>\n",
       "      <td>184.445225</td>\n",
       "      <td>4.000000</td>\n",
       "      <td>750.000000</td>\n",
       "      <td>770.000000</td>\n",
       "      <td>1.000000</td>\n",
       "      <td>51.000000</td>\n",
       "      <td>14.000000</td>\n",
       "      <td>385.000000</td>\n",
       "      <td>28969.000000</td>\n",
       "      <td>6.000000</td>\n",
       "      <td>1.000000</td>\n",
       "    </tr>\n",
       "    <tr>\n",
       "      <th>max</th>\n",
       "      <td>98.000000</td>\n",
       "      <td>1.000000</td>\n",
       "      <td>1.000000</td>\n",
       "      <td>14.879000</td>\n",
       "      <td>1.000000</td>\n",
       "      <td>14.000000</td>\n",
       "      <td>24.000000</td>\n",
       "      <td>170.457647</td>\n",
       "      <td>359.774457</td>\n",
       "      <td>20.000000</td>\n",
       "      <td>14000.000000</td>\n",
       "      <td>1294.000000</td>\n",
       "      <td>1.000000</td>\n",
       "      <td>98.000000</td>\n",
       "      <td>17.000000</td>\n",
       "      <td>505.000000</td>\n",
       "      <td>38625.000000</td>\n",
       "      <td>14.000000</td>\n",
       "      <td>1.000000</td>\n",
       "    </tr>\n",
       "  </tbody>\n",
       "</table>\n",
       "</div>"
      ],
      "text/plain": [
       "               year           sex         indig      dist_sec            sc  \\\n",
       "count  77250.000000  77226.000000  76950.000000  77250.000000  68797.000000   \n",
       "mean      97.500000      0.512211      0.298324      2.418910      0.819818   \n",
       "std        0.500003      0.499854      0.457525      2.234109      0.384342   \n",
       "min       97.000000      0.000000      0.000000      0.000000      0.000000   \n",
       "25%       97.000000      0.000000      0.000000      0.574000      1.000000   \n",
       "50%       97.500000      1.000000      0.000000      2.279000      1.000000   \n",
       "75%       98.000000      1.000000      1.000000      3.582000      1.000000   \n",
       "max       98.000000      1.000000      1.000000     14.879000      1.000000   \n",
       "\n",
       "                grc         fam_n      min_dist      dist_cap        hohedu  \\\n",
       "count  70701.000000  77250.000000  77250.000000  77250.000000  77250.000000   \n",
       "mean       3.963537      7.215715    103.447520    147.674452      2.768104   \n",
       "std        2.499063      2.352900     42.089441     76.063134      2.656106   \n",
       "min        0.000000      1.000000      9.465392      9.465392      0.000000   \n",
       "25%        2.000000      6.000000     70.518238     92.327050      0.000000   \n",
       "50%        4.000000      7.000000    111.228612    132.001494      2.000000   \n",
       "75%        6.000000      9.000000    138.446009    184.445225      4.000000   \n",
       "max       14.000000     24.000000    170.457647    359.774457     20.000000   \n",
       "\n",
       "             hohwag  welfare_index        hohsex        hohage           age  \\\n",
       "count  77250.000000   77040.000000  77230.000000  77240.000000  77250.000000   \n",
       "mean     586.985312     690.346564      0.925185     44.436717     11.366460   \n",
       "std      788.133664     139.491130      0.263095     11.620372      3.167744   \n",
       "min        0.000000     180.000000      0.000000     15.000000      6.000000   \n",
       "25%      120.000000     597.000000      1.000000     36.000000      9.000000   \n",
       "50%      500.000000     685.000000      1.000000     43.000000     11.000000   \n",
       "75%      750.000000     770.000000      1.000000     51.000000     14.000000   \n",
       "max    14000.000000    1294.000000      1.000000     98.000000     17.000000   \n",
       "\n",
       "            village        folnum         grc97          sc97  \n",
       "count  77250.000000  77250.000000  77250.000000  73378.000000  \n",
       "mean     253.614964  19313.000000      3.705372      0.813922  \n",
       "std      149.341967  11150.149239      2.572387      0.389172  \n",
       "min        1.000000      1.000000      0.000000      0.000000  \n",
       "25%      126.000000   9657.000000      1.000000      1.000000  \n",
       "50%      257.000000  19313.000000      4.000000      1.000000  \n",
       "75%      385.000000  28969.000000      6.000000      1.000000  \n",
       "max      505.000000  38625.000000     14.000000      1.000000  "
      ]
     },
     "execution_count": 302,
     "metadata": {},
     "output_type": "execute_result"
    }
   ],
   "source": [
    "print p_df.shape\n",
    "print p_df.columns\n",
    "print p_df.dtypes"
   ]
  },
  {
   "cell_type": "markdown",
   "metadata": {
    "ein.tags": [
     "worksheet-0"
    ],
    "slideshow": {
     "slide_type": "-"
    }
   },
   "source": [
    "---\n",
    "##Part 1: Descriptive analysis\n",
    "\n",
    "### 1.1\tSummary Statistics\n",
    "\n",
    "a) Present number of missing observations for every single variable\n"
   ]
  },
  {
   "cell_type": "code",
   "execution_count": 227,
   "metadata": {
    "autoscroll": "json-false",
    "collapsed": false,
    "ein.tags": [
     "worksheet-0"
    ],
    "slideshow": {
     "slide_type": "-"
    }
   },
   "outputs": [
    {
     "data": {
      "text/plain": [
       "year                0\n",
       "sex                24\n",
       "indig             300\n",
       "dist_sec            0\n",
       "sc               8453\n",
       "grc              6549\n",
       "fam_n               0\n",
       "min_dist            0\n",
       "dist_cap            0\n",
       "poor                0\n",
       "progresa            0\n",
       "hohedu              0\n",
       "hohwag              0\n",
       "welfare_index     210\n",
       "hohsex             20\n",
       "hohage             10\n",
       "age                 0\n",
       "village             0\n",
       "folnum              0\n",
       "grc97               0\n",
       "sc97             3872\n",
       "dtype: int64"
      ]
     },
     "execution_count": 227,
     "metadata": {},
     "output_type": "execute_result"
    }
   ],
   "source": [
    "p_df.apply(lambda x: sum(x.isnull().values), axis = 0) # 0 for columns and 1 for rows"
   ]
  },
  {
   "cell_type": "markdown",
   "metadata": {
    "ein.tags": [
     "worksheet-0"
    ],
    "slideshow": {
     "slide_type": "-"
    }
   },
   "source": [
    "b) Present summary statistics (mean and standard deviation) for all of the demographic variables in the dataset (i.e., everything except year, folnum, village). Present these in a single table alphabetized by variable name. Do NOT simply expect the grader to scroll through your output!"
   ]
  },
  {
   "cell_type": "code",
   "execution_count": 228,
   "metadata": {
    "autoscroll": "json-false",
    "collapsed": false,
    "ein.tags": [
     "worksheet-0"
    ],
    "slideshow": {
     "slide_type": "-"
    }
   },
   "outputs": [
    {
     "data": {
      "text/html": [
       "<div>\n",
       "<table border=\"1\" class=\"dataframe\">\n",
       "  <thead>\n",
       "    <tr style=\"text-align: right;\">\n",
       "      <th></th>\n",
       "      <th>mean</th>\n",
       "      <th>std</th>\n",
       "    </tr>\n",
       "  </thead>\n",
       "  <tbody>\n",
       "    <tr>\n",
       "      <th>age</th>\n",
       "      <td>11.366460</td>\n",
       "      <td>3.167744</td>\n",
       "    </tr>\n",
       "    <tr>\n",
       "      <th>dist_cap</th>\n",
       "      <td>147.674452</td>\n",
       "      <td>76.063134</td>\n",
       "    </tr>\n",
       "    <tr>\n",
       "      <th>dist_sec</th>\n",
       "      <td>2.418910</td>\n",
       "      <td>2.234109</td>\n",
       "    </tr>\n",
       "    <tr>\n",
       "      <th>fam_n</th>\n",
       "      <td>7.215715</td>\n",
       "      <td>2.352900</td>\n",
       "    </tr>\n",
       "    <tr>\n",
       "      <th>grc</th>\n",
       "      <td>3.963537</td>\n",
       "      <td>2.499063</td>\n",
       "    </tr>\n",
       "    <tr>\n",
       "      <th>grc97</th>\n",
       "      <td>3.705372</td>\n",
       "      <td>2.572387</td>\n",
       "    </tr>\n",
       "    <tr>\n",
       "      <th>hohage</th>\n",
       "      <td>44.436717</td>\n",
       "      <td>11.620372</td>\n",
       "    </tr>\n",
       "    <tr>\n",
       "      <th>hohedu</th>\n",
       "      <td>2.768104</td>\n",
       "      <td>2.656106</td>\n",
       "    </tr>\n",
       "    <tr>\n",
       "      <th>hohsex</th>\n",
       "      <td>0.925185</td>\n",
       "      <td>0.263095</td>\n",
       "    </tr>\n",
       "    <tr>\n",
       "      <th>hohwag</th>\n",
       "      <td>586.985312</td>\n",
       "      <td>788.133664</td>\n",
       "    </tr>\n",
       "    <tr>\n",
       "      <th>indig</th>\n",
       "      <td>0.298324</td>\n",
       "      <td>0.457525</td>\n",
       "    </tr>\n",
       "    <tr>\n",
       "      <th>min_dist</th>\n",
       "      <td>103.447520</td>\n",
       "      <td>42.089441</td>\n",
       "    </tr>\n",
       "    <tr>\n",
       "      <th>sc</th>\n",
       "      <td>0.819818</td>\n",
       "      <td>0.384342</td>\n",
       "    </tr>\n",
       "    <tr>\n",
       "      <th>sc97</th>\n",
       "      <td>0.813922</td>\n",
       "      <td>0.389172</td>\n",
       "    </tr>\n",
       "    <tr>\n",
       "      <th>sex</th>\n",
       "      <td>0.512211</td>\n",
       "      <td>0.499854</td>\n",
       "    </tr>\n",
       "    <tr>\n",
       "      <th>welfare_index</th>\n",
       "      <td>690.346564</td>\n",
       "      <td>139.491130</td>\n",
       "    </tr>\n",
       "  </tbody>\n",
       "</table>\n",
       "</div>"
      ],
      "text/plain": [
       "                     mean         std\n",
       "age             11.366460    3.167744\n",
       "dist_cap       147.674452   76.063134\n",
       "dist_sec         2.418910    2.234109\n",
       "fam_n            7.215715    2.352900\n",
       "grc              3.963537    2.499063\n",
       "grc97            3.705372    2.572387\n",
       "hohage          44.436717   11.620372\n",
       "hohedu           2.768104    2.656106\n",
       "hohsex           0.925185    0.263095\n",
       "hohwag         586.985312  788.133664\n",
       "indig            0.298324    0.457525\n",
       "min_dist       103.447520   42.089441\n",
       "sc               0.819818    0.384342\n",
       "sc97             0.813922    0.389172\n",
       "sex              0.512211    0.499854\n",
       "welfare_index  690.346564  139.491130"
      ]
     },
     "execution_count": 228,
     "metadata": {},
     "output_type": "execute_result"
    }
   ],
   "source": [
    "describe = p_df.describe()\n",
    "describe1 = describe.loc[[\"mean\",'std'],:].drop(['year','folnum','village'], axis = 1)\n",
    "describe1.transpose().sort_index()"
   ]
  },
  {
   "cell_type": "markdown",
   "metadata": {
    "ein.tags": [
     "worksheet-0"
    ],
    "slideshow": {
     "slide_type": "-"
    }
   },
   "source": [
    "### 1.2 Differences at baseline?\n",
    "\n",
    "Are the baseline (1997) demographic characteristics **for the poor**  different in treatment and control villages? Hint: Use a T-Test to determine whether there is a statistically significant difference in the average values of each of the variables in the dataset. Focus only on the data from 1997 for individuals who are poor (i.e., poor=='pobre').\n",
    "\n",
    "Present your results in a single table with the following columns and 14 (or so) rows:\n",
    "\n",
    "| Variable name | Average value (Treatment villages) | Average value (Control villages) | Difference (Treat - Control) | p-value |\n",
    "|------|------|------|------|------|\n",
    "|Male  |?     |?     |?     |?     |\n"
   ]
  },
  {
   "cell_type": "code",
   "execution_count": 229,
   "metadata": {
    "collapsed": false
   },
   "outputs": [],
   "source": [
    "# Select data from the year 1997 and for individuals who are poor\n",
    "p1_df = p_df[p_df.year == 97] # Dataset for year 1997 to be used for later questions\n",
    "p2_df = p1_df[p1_df.poor =='pobre']\n",
    "\n",
    "# Remove columns year, folnum and village\n",
    "p3_df = p2_df.drop(['poor','year','folnum','village'], axis = 1)\n"
   ]
  },
  {
   "cell_type": "code",
   "execution_count": 230,
   "metadata": {
    "collapsed": true
   },
   "outputs": [],
   "source": [
    "# Create dictionary to make a data frame\n",
    "dict = {'Variable name': [],'Average value (Treatment Villages)':[], 'Average value (Control Villages)': [], 'Difference (Treat-Control)':[], '(t-Statistic, p-value)':[]}   \n",
    "\n"
   ]
  },
  {
   "cell_type": "code",
   "execution_count": 231,
   "metadata": {
    "collapsed": true
   },
   "outputs": [],
   "source": [
    "# Create two different dataframes for Control and Treated and remove column progresa\n",
    "p_control = p3_df[p3_df.progresa == '0'].drop(['progresa'], axis = 1)\n",
    "p_treat = p3_df[p3_df.progresa == 'basal'].drop(['progresa'], axis = 1)\n"
   ]
  },
  {
   "cell_type": "code",
   "execution_count": 232,
   "metadata": {
    "collapsed": false
   },
   "outputs": [
    {
     "data": {
      "text/html": [
       "<div>\n",
       "<table border=\"1\" class=\"dataframe\">\n",
       "  <thead>\n",
       "    <tr style=\"text-align: right;\">\n",
       "      <th></th>\n",
       "      <th>Variable name</th>\n",
       "      <th>Average value (Treatment Villages)</th>\n",
       "      <th>Average value (Control Villages)</th>\n",
       "      <th>Difference (Treat-Control)</th>\n",
       "      <th>(t-Statistic, p-value)</th>\n",
       "    </tr>\n",
       "  </thead>\n",
       "  <tbody>\n",
       "    <tr>\n",
       "      <th>0</th>\n",
       "      <td>sex</td>\n",
       "      <td>0.51932</td>\n",
       "      <td>0.50505</td>\n",
       "      <td>0.01427</td>\n",
       "      <td>(2.50668556951, 0.0121917217538)</td>\n",
       "    </tr>\n",
       "    <tr>\n",
       "      <th>1</th>\n",
       "      <td>indig</td>\n",
       "      <td>0.32599</td>\n",
       "      <td>0.33221</td>\n",
       "      <td>-0.00622</td>\n",
       "      <td>(-1.16171359338, 0.245360334075)</td>\n",
       "    </tr>\n",
       "    <tr>\n",
       "      <th>2</th>\n",
       "      <td>dist_sec</td>\n",
       "      <td>2.45312</td>\n",
       "      <td>2.50766</td>\n",
       "      <td>-0.05454</td>\n",
       "      <td>(-2.10043276993, 0.035698428274)</td>\n",
       "    </tr>\n",
       "    <tr>\n",
       "      <th>3</th>\n",
       "      <td>sc</td>\n",
       "      <td>0.82270</td>\n",
       "      <td>0.81519</td>\n",
       "      <td>0.00751</td>\n",
       "      <td>(1.6687449766, 0.0951780559146)</td>\n",
       "    </tr>\n",
       "    <tr>\n",
       "      <th>4</th>\n",
       "      <td>grc</td>\n",
       "      <td>3.53160</td>\n",
       "      <td>3.54305</td>\n",
       "      <td>-0.01145</td>\n",
       "      <td>(-0.400195566008, 0.689015094869)</td>\n",
       "    </tr>\n",
       "    <tr>\n",
       "      <th>5</th>\n",
       "      <td>fam_n</td>\n",
       "      <td>7.28133</td>\n",
       "      <td>7.30247</td>\n",
       "      <td>-0.02114</td>\n",
       "      <td>(-0.794167083293, 0.427103932752)</td>\n",
       "    </tr>\n",
       "    <tr>\n",
       "      <th>6</th>\n",
       "      <td>min_dist</td>\n",
       "      <td>107.15291</td>\n",
       "      <td>103.23785</td>\n",
       "      <td>3.91506</td>\n",
       "      <td>(8.20658411284, 2.35831227554e-16)</td>\n",
       "    </tr>\n",
       "    <tr>\n",
       "      <th>7</th>\n",
       "      <td>dist_cap</td>\n",
       "      <td>150.82907</td>\n",
       "      <td>153.76973</td>\n",
       "      <td>-2.94066</td>\n",
       "      <td>(-3.33908066454, 0.000841500527629)</td>\n",
       "    </tr>\n",
       "    <tr>\n",
       "      <th>8</th>\n",
       "      <td>hohedu</td>\n",
       "      <td>2.66314</td>\n",
       "      <td>2.59035</td>\n",
       "      <td>0.07279</td>\n",
       "      <td>(2.54122906822, 0.0110509314539)</td>\n",
       "    </tr>\n",
       "    <tr>\n",
       "      <th>9</th>\n",
       "      <td>hohwag</td>\n",
       "      <td>544.33954</td>\n",
       "      <td>573.16356</td>\n",
       "      <td>-28.82402</td>\n",
       "      <td>(-3.59458761274, 0.000325383514241)</td>\n",
       "    </tr>\n",
       "    <tr>\n",
       "      <th>10</th>\n",
       "      <td>welfare_index</td>\n",
       "      <td>655.42838</td>\n",
       "      <td>659.57910</td>\n",
       "      <td>-4.15072</td>\n",
       "      <td>(-3.18859378817, 0.00143101639284)</td>\n",
       "    </tr>\n",
       "    <tr>\n",
       "      <th>11</th>\n",
       "      <td>hohsex</td>\n",
       "      <td>0.92466</td>\n",
       "      <td>0.92295</td>\n",
       "      <td>0.00171</td>\n",
       "      <td>(0.56631176084, 0.571185755233)</td>\n",
       "    </tr>\n",
       "    <tr>\n",
       "      <th>12</th>\n",
       "      <td>hohage</td>\n",
       "      <td>43.64883</td>\n",
       "      <td>44.27692</td>\n",
       "      <td>-0.62809</td>\n",
       "      <td>(-4.77596230235, 1.79624265496e-06)</td>\n",
       "    </tr>\n",
       "    <tr>\n",
       "      <th>13</th>\n",
       "      <td>age</td>\n",
       "      <td>10.71699</td>\n",
       "      <td>10.74202</td>\n",
       "      <td>-0.02503</td>\n",
       "      <td>(-0.708629550842, 0.478559445667)</td>\n",
       "    </tr>\n",
       "    <tr>\n",
       "      <th>14</th>\n",
       "      <td>grc97</td>\n",
       "      <td>3.53160</td>\n",
       "      <td>3.54305</td>\n",
       "      <td>-0.01145</td>\n",
       "      <td>(-0.400195566008, 0.689015094869)</td>\n",
       "    </tr>\n",
       "    <tr>\n",
       "      <th>15</th>\n",
       "      <td>sc97</td>\n",
       "      <td>0.82270</td>\n",
       "      <td>0.81519</td>\n",
       "      <td>0.00751</td>\n",
       "      <td>(1.6687449766, 0.0951780559146)</td>\n",
       "    </tr>\n",
       "  </tbody>\n",
       "</table>\n",
       "</div>"
      ],
      "text/plain": [
       "    Variable name  Average value (Treatment Villages)  \\\n",
       "0             sex                             0.51932   \n",
       "1           indig                             0.32599   \n",
       "2        dist_sec                             2.45312   \n",
       "3              sc                             0.82270   \n",
       "4             grc                             3.53160   \n",
       "5           fam_n                             7.28133   \n",
       "6        min_dist                           107.15291   \n",
       "7        dist_cap                           150.82907   \n",
       "8          hohedu                             2.66314   \n",
       "9          hohwag                           544.33954   \n",
       "10  welfare_index                           655.42838   \n",
       "11         hohsex                             0.92466   \n",
       "12         hohage                            43.64883   \n",
       "13            age                            10.71699   \n",
       "14          grc97                             3.53160   \n",
       "15           sc97                             0.82270   \n",
       "\n",
       "    Average value (Control Villages)  Difference (Treat-Control)  \\\n",
       "0                            0.50505                     0.01427   \n",
       "1                            0.33221                    -0.00622   \n",
       "2                            2.50766                    -0.05454   \n",
       "3                            0.81519                     0.00751   \n",
       "4                            3.54305                    -0.01145   \n",
       "5                            7.30247                    -0.02114   \n",
       "6                          103.23785                     3.91506   \n",
       "7                          153.76973                    -2.94066   \n",
       "8                            2.59035                     0.07279   \n",
       "9                          573.16356                   -28.82402   \n",
       "10                         659.57910                    -4.15072   \n",
       "11                           0.92295                     0.00171   \n",
       "12                          44.27692                    -0.62809   \n",
       "13                          10.74202                    -0.02503   \n",
       "14                           3.54305                    -0.01145   \n",
       "15                           0.81519                     0.00751   \n",
       "\n",
       "                 (t-Statistic, p-value)  \n",
       "0      (2.50668556951, 0.0121917217538)  \n",
       "1      (-1.16171359338, 0.245360334075)  \n",
       "2      (-2.10043276993, 0.035698428274)  \n",
       "3       (1.6687449766, 0.0951780559146)  \n",
       "4     (-0.400195566008, 0.689015094869)  \n",
       "5     (-0.794167083293, 0.427103932752)  \n",
       "6    (8.20658411284, 2.35831227554e-16)  \n",
       "7   (-3.33908066454, 0.000841500527629)  \n",
       "8      (2.54122906822, 0.0110509314539)  \n",
       "9   (-3.59458761274, 0.000325383514241)  \n",
       "10   (-3.18859378817, 0.00143101639284)  \n",
       "11      (0.56631176084, 0.571185755233)  \n",
       "12  (-4.77596230235, 1.79624265496e-06)  \n",
       "13    (-0.708629550842, 0.478559445667)  \n",
       "14    (-0.400195566008, 0.689015094869)  \n",
       "15      (1.6687449766, 0.0951780559146)  "
      ]
     },
     "execution_count": 232,
     "metadata": {},
     "output_type": "execute_result"
    }
   ],
   "source": [
    "#loop to get data to fill the empty data frame\n",
    "from scipy.stats import ttest_ind\n",
    "\n",
    "for column in p_control:\n",
    "    dict['Variable name'].append(column)\n",
    "    dict['Average value (Control Villages)'].append(round(p_control[column].dropna().mean(), 5))\n",
    "\n",
    "for column in p_treat:\n",
    "    dict['Average value (Treatment Villages)'].append(round(p_treat[column].dropna().mean(),5))\n",
    "    \n",
    "for i in range(len(dic['Variable name'])):\n",
    "    dict['Difference (Treat-Control)'].append(round((dict['Average value (Treatment Villages)'][i] - dict['Average value (Control Villages)'][i]), 5))\n",
    "    dict['(t-Statistic, p-value)'].append(ttest_ind(p_treat[dict['Variable name'][i]].dropna(), p_control[dict['Variable name'][i]].dropna())) # two-tailed T-test, assuming the two sets of data have equal variances \n",
    "\n",
    "result1_df = pd.DataFrame(dict, columns=['Variable name','Average value (Treatment Villages)', 'Average value (Control Villages)', 'Difference (Treat-Control)', '(t-Statistic, p-value)'])\n",
    "\n",
    "result1_df"
   ]
  },
  {
   "cell_type": "markdown",
   "metadata": {
    "ein.tags": [
     "worksheet-0"
    ],
    "slideshow": {
     "slide_type": "-"
    }
   },
   "source": [
    "### 1.3 Interpretation\n",
    "\n",
    "* A: Are there statistically significant differences between treatment and control villages as baseline? \n",
    "* B: Why does it matter if there are differences at baseline?\n",
    "* C: What does this imply about how to measure the impact of the treatment?"
   ]
  },
  {
   "cell_type": "markdown",
   "metadata": {},
   "source": [
    "Answer:\n",
    "1.3.A. Yes, there are statistically significant differences between treatment and control villages at baseline, evident by a p-value of less than 0.05 for the variables described below:\n",
    "1.Sex of the child\n",
    "2.Indegenous\n",
    "3.Nearest distance to a secondary school\n",
    "4.Min distance to urban center\n",
    "5.Min distance to the capital\n",
    "6.Years of schooling of head of household\n",
    "7.Monthly wages of head of household\n",
    "8.Welfare_index used to classify poor\n",
    "9.age of head of household\n"
   ]
  },
  {
   "cell_type": "markdown",
   "metadata": {
    "autoscroll": "json-false",
    "collapsed": false,
    "ein.tags": [
     "worksheet-0"
    ],
    "slideshow": {
     "slide_type": "-"
    }
   },
   "source": [
    "Answer: 1.3.B. To understand the true effect of the treatment, it is important to randomize the selection of control and treated groups. This is done to eliminate bias and create two homogenous groups with minimal differences between the two groups at baseline.\n",
    "If there are significant differences between the treated and the control groups before the treatment, then it introduces bias and creates an opportunity for confounding variables to influence the result of the treatment."
   ]
  },
  {
   "cell_type": "markdown",
   "metadata": {},
   "source": [
    "Answer: 1.3.C. This implies that we cannot use cross-sectional estimators to analyze the effect of the treatment as the control groups are not real controls (as there are other differences between control and treated groups). Difference-in-difference may be a better way to measure the impact of the treatment. "
   ]
  },
  {
   "cell_type": "markdown",
   "metadata": {
    "ein.tags": [
     "worksheet-0"
    ],
    "slideshow": {
     "slide_type": "-"
    }
   },
   "source": [
    "### 1.4 Graphical exploration, part 1\n",
    "\n",
    "For each level of household head education, compute the average enrollment rate in 1997. Create a scatterplot that shows this relationship. What do you notice?"
   ]
  },
  {
   "cell_type": "code",
   "execution_count": 233,
   "metadata": {
    "collapsed": false
   },
   "outputs": [
    {
     "name": "stdout",
     "output_type": "stream",
     "text": [
      "    hohedu  Enrollment rate\n",
      "0        0         0.776137\n",
      "1        1         0.768537\n",
      "2        2         0.794552\n",
      "3        3         0.802956\n",
      "4        4         0.842951\n",
      "5        5         0.849835\n",
      "6        6         0.878469\n",
      "7        7         0.889535\n",
      "8        8         0.900000\n",
      "9        9         0.925023\n",
      "10      10         0.865385\n",
      "11      11         0.974359\n",
      "12      12         0.982955\n",
      "13      13         0.959459\n",
      "14      14         0.880952\n",
      "15      15         0.900000\n",
      "16      16         0.941176\n",
      "17      17         0.933333\n",
      "18      18         1.000000\n",
      "19      20         0.500000\n"
     ]
    },
    {
     "data": {
      "image/png": "[encoded data removed]",
      "text/plain": [
       "<matplotlib.figure.Figure at 0x7442b5c0>"
      ]
     },
     "metadata": {},
     "output_type": "display_data"
    }
   ],
   "source": [
    "p4_df = pd.DataFrame({'Enrollment rate': p1_df.groupby('hohedu').sc.mean()}).reset_index()\n",
    "print p4_df\n",
    "plt.scatter(p4_df['hohedu'], p4_df['Enrollment rate'])\n",
    "plt.title('Head of household Education and Child Enrollment rate')\n",
    "plt.ylabel('Child Enrollment Rate')\n",
    "plt.xlabel('Years of Schooling by Head of Household')\n",
    "plt.show()"
   ]
  },
  {
   "cell_type": "markdown",
   "metadata": {},
   "source": [
    "Barring some exceptions, generally the Child's enrollment rate increases as the education level of the head of household increases. In other words, the more the number of years of schooling by the head of household, the more their child's enrollment rate will be."
   ]
  },
  {
   "cell_type": "markdown",
   "metadata": {
    "ein.tags": [
     "worksheet-0"
    ],
    "slideshow": {
     "slide_type": "-"
    }
   },
   "source": [
    "### 1.5 Graphical exploration, part 2\n",
    "\n",
    "Create a histogram of village enrollment rates **among poor households in treated villages**, before and after treatment. Specifically, for each village, calculate the average rate of enrollment of poor households in treated villages in 1997, then compute the average rate of enrollment of poor households in treated villages in 1998. Create two separate histograms showing the distribution of these average enrollments rates, one histogram for 1997 and one histogram for 1998. On each histogram, draw a vertical line that intersects the x-axis at the average value (across all households).\n",
    "* Does there appear to be a difference? Is this difference statistically significant?\n",
    "* Which D estimator in Schultz (2004) does this approach correspond to?"
   ]
  },
  {
   "cell_type": "code",
   "execution_count": 234,
   "metadata": {
    "collapsed": false
   },
   "outputs": [],
   "source": [
    "# creating some filtered datasets\n",
    "p5_df = pd.DataFrame({'Average Enrollment rate': p2_df.groupby('village').sc.mean()}).reset_index() # p2_dt is dataset of year 1997 and poor\n",
    "\n",
    "p6_df = p_df[(p_df.year == 98) & (p_df.poor =='pobre')] # Dataset of year 1998 and poor\n",
    "p7_df = pd.DataFrame({'Average Enrollment rate': p6_df.groupby('village').sc.mean()}).reset_index() \n",
    "\n"
   ]
  },
  {
   "cell_type": "code",
   "execution_count": 250,
   "metadata": {
    "collapsed": false
   },
   "outputs": [
    {
     "data": {
      "text/plain": [
       "<matplotlib.lines.Line2D at 0x869c45f8>"
      ]
     },
     "execution_count": 250,
     "metadata": {},
     "output_type": "execute_result"
    },
    {
     "data": {
      "image/png": "[encoded data removed]",
      "text/plain": [
       "<matplotlib.figure.Figure at 0x822d12b0>"
      ]
     },
     "metadata": {},
     "output_type": "display_data"
    }
   ],
   "source": [
    "before = p_df[(p_df.poor=='pobre')&(p_df.year==97)&(p_df.progresa=='basal')].groupby(['village']).mean()\n",
    "#print(before)\n",
    "#Plot histogram for 1997\n",
    "fig = plt.figure()\n",
    "ax = plt.hist(before.sc,color= \"grey\")\n",
    "plt.ylabel(\"Number of villages\")\n",
    "plt.xlabel(\"Average Enrollment in 1997\")\n",
    "plt.axvline(before.sc.mean())"
   ]
  },
  {
   "cell_type": "markdown",
   "metadata": {
    "ein.tags": [
     "worksheet-0"
    ],
    "slideshow": {
     "slide_type": "-"
    }
   },
   "source": [
    "## Part 2: Measuring Impact\n",
    "\n",
    "### 2.1 Simple differences: T-test\n",
    "\n",
    "Start out by estimating the impact of Progresa using \"simple differences.\" Restricting yourself to data from 1998 (after treatment).\n",
    "* calculate the average enrollment rate among **poor** households in the Treatment villages and the average enrollment rate among **poor** households in the control villages.\n",
    "* Which difference estimator in Schultz (2004) does this approach correspond to?\n",
    "* Use a t-test to determine if this difference is statistically significant. What do you conclude?"
   ]
  },
  {
   "cell_type": "code",
   "execution_count": 194,
   "metadata": {
    "autoscroll": "json-false",
    "collapsed": false,
    "ein.tags": [
     "worksheet-0"
    ],
    "slideshow": {
     "slide_type": "-"
    }
   },
   "outputs": [
    {
     "data": {
      "text/html": [
       "<div>\n",
       "<table border=\"1\" class=\"dataframe\">\n",
       "  <thead>\n",
       "    <tr style=\"text-align: right;\">\n",
       "      <th></th>\n",
       "      <th>Average enrollment Rate (Control Villages)</th>\n",
       "      <th>Average enrollment Rate (Treated Villages)</th>\n",
       "      <th>Simple difference</th>\n",
       "      <th>T-Test</th>\n",
       "    </tr>\n",
       "  </thead>\n",
       "  <tbody>\n",
       "    <tr>\n",
       "      <th>0</th>\n",
       "      <td>0.807637</td>\n",
       "      <td>0.846479</td>\n",
       "      <td>0.038842</td>\n",
       "      <td>(8.35872056742, 6.63634444752e-17)</td>\n",
       "    </tr>\n",
       "  </tbody>\n",
       "</table>\n",
       "</div>"
      ],
      "text/plain": [
       "   Average enrollment Rate (Control Villages)  \\\n",
       "0                                    0.807637   \n",
       "\n",
       "   Average enrollment Rate (Treated Villages)  Simple difference  \\\n",
       "0                                    0.846479           0.038842   \n",
       "\n",
       "                               T-Test  \n",
       "0  (8.35872056742, 6.63634444752e-17)  "
      ]
     },
     "execution_count": 194,
     "metadata": {},
     "output_type": "execute_result"
    }
   ],
   "source": [
    "#Create two different dataframes for Control and Treated  from the 1998, poor dataset p6_df\n",
    "p98_control = p6_df[p6_df.progresa == '0']\n",
    "p98_treat = p6_df[p6_df.progresa == 'basal']\n",
    "controlERate = p98_control['sc'].dropna().mean()\n",
    "treatERate = p98_treat['sc'].dropna().mean()\n",
    "dict = {\"Average enrollment Rate (Control Villages)\": [],\"Average enrollment Rate (Treated Villages)\": [],\"Simple difference\": [], \"T-Test\": []}\n",
    "dict[\"Average enrollment Rate (Control Villages)\"].append(controlERate)\n",
    "dict[\"Average enrollment Rate (Treated Villages)\"].append(treatERate)\n",
    "dict[\"Simple difference\"].append(treatERate - controlERate)\n",
    "dict[\"T-Test\"].append(ttest_ind(p98_treat['sc'].dropna(),p98_control['sc'].dropna()))\n",
    "\n",
    "\n",
    "result2_df = pd.DataFrame(dict, columns=['Average enrollment Rate (Control Villages)','Average enrollment Rate (Treated Villages)', 'Simple difference', 'T-Test'])\n",
    "\n",
    "result2_df\n"
   ]
  },
  {
   "cell_type": "markdown",
   "metadata": {},
   "source": [
    "Answer 2.1: \n",
    "    The average enrollment rates in control and Treatment Villages, and the simple difference between them and the T-Test value (T-test statistic, p-value) is given in the table above. \n",
    "    \n",
    "    This is similar to the D1 difference estimator: Program-Control Differences in outcomes among Comparable-Eligible (poor) Groups mentioned in the Schultz(2004) paper.\n",
    "    \n",
    "    The p-value is less than 0.05 and so by t-test, the average enrollement rates are statistically significantly different. But I know that there were baseline differences between control and treated group. \n",
    "    \n",
    "    Therefore, I will not conclude that progresa treatment was fully responsible for the differences in the enrollment rate in the control and treated villages.\n"
   ]
  },
  {
   "cell_type": "markdown",
   "metadata": {
    "ein.tags": [
     "worksheet-0"
    ],
    "slideshow": {
     "slide_type": "-"
    }
   },
   "source": [
    "### 2.2 Simple differences: Regression\n",
    "\n",
    "Estimate the effects of Progresa on enrollment using a regression model, by regressing the 1998 enrollment rates **of the poor** on treatment assignment. Discuss the following:\n",
    "\n",
    "* Based on this model, how much did Progresa increase the likelihood of a child enrolling?\n",
    "* How does your regression estimate compare to your t-test estimate from part 2.1?\n",
    "* Based on this regression model, can we reject the null hypothesis that the treatment effects are zero? \n",
    "* What is the counterfactual assumption underlying this regression?"
   ]
  },
  {
   "cell_type": "code",
   "execution_count": 252,
   "metadata": {
    "autoscroll": "json-false",
    "collapsed": false,
    "ein.tags": [
     "worksheet-0"
    ],
    "slideshow": {
     "slide_type": "-"
    }
   },
   "outputs": [
    {
     "data": {
      "text/html": [
       "<table class=\"simpletable\">\n",
       "<caption>OLS Regression Results</caption>\n",
       "<tr>\n",
       "  <th>Dep. Variable:</th>           <td>sc</td>        <th>  R-squared:         </th> <td>   0.003</td> \n",
       "</tr>\n",
       "<tr>\n",
       "  <th>Model:</th>                   <td>OLS</td>       <th>  Adj. R-squared:    </th> <td>   0.003</td> \n",
       "</tr>\n",
       "<tr>\n",
       "  <th>Method:</th>             <td>Least Squares</td>  <th>  F-statistic:       </th> <td>   69.87</td> \n",
       "</tr>\n",
       "<tr>\n",
       "  <th>Date:</th>             <td>Tue, 02 May 2017</td> <th>  Prob (F-statistic):</th> <td>6.64e-17</td> \n",
       "</tr>\n",
       "<tr>\n",
       "  <th>Time:</th>                 <td>14:51:20</td>     <th>  Log-Likelihood:    </th> <td> -11926.</td> \n",
       "</tr>\n",
       "<tr>\n",
       "  <th>No. Observations:</th>      <td> 27450</td>      <th>  AIC:               </th> <td>2.386e+04</td>\n",
       "</tr>\n",
       "<tr>\n",
       "  <th>Df Residuals:</th>          <td> 27448</td>      <th>  BIC:               </th> <td>2.387e+04</td>\n",
       "</tr>\n",
       "<tr>\n",
       "  <th>Df Model:</th>              <td>     1</td>      <th>                     </th>     <td> </td>    \n",
       "</tr>\n",
       "<tr>\n",
       "  <th>Covariance Type:</th>      <td>nonrobust</td>    <th>                     </th>     <td> </td>    \n",
       "</tr>\n",
       "</table>\n",
       "<table class=\"simpletable\">\n",
       "<tr>\n",
       "          <td></td>             <th>coef</th>     <th>std err</th>      <th>t</th>      <th>P>|t|</th> <th>[95.0% Conf. Int.]</th> \n",
       "</tr>\n",
       "<tr>\n",
       "  <th>Intercept</th>         <td>    0.8076</td> <td>    0.004</td> <td>  220.676</td> <td> 0.000</td> <td>    0.800     0.815</td>\n",
       "</tr>\n",
       "<tr>\n",
       "  <th>progresa[T.basal]</th> <td>    0.0388</td> <td>    0.005</td> <td>    8.359</td> <td> 0.000</td> <td>    0.030     0.048</td>\n",
       "</tr>\n",
       "</table>\n",
       "<table class=\"simpletable\">\n",
       "<tr>\n",
       "  <th>Omnibus:</th>       <td>7638.939</td> <th>  Durbin-Watson:     </th> <td>   1.734</td> \n",
       "</tr>\n",
       "<tr>\n",
       "  <th>Prob(Omnibus):</th>  <td> 0.000</td>  <th>  Jarque-Bera (JB):  </th> <td>15767.534</td>\n",
       "</tr>\n",
       "<tr>\n",
       "  <th>Skew:</th>           <td>-1.767</td>  <th>  Prob(JB):          </th> <td>    0.00</td> \n",
       "</tr>\n",
       "<tr>\n",
       "  <th>Kurtosis:</th>       <td> 4.140</td>  <th>  Cond. No.          </th> <td>    3.01</td> \n",
       "</tr>\n",
       "</table>"
      ],
      "text/plain": [
       "<class 'statsmodels.iolib.summary.Summary'>\n",
       "\"\"\"\n",
       "                            OLS Regression Results                            \n",
       "==============================================================================\n",
       "Dep. Variable:                     sc   R-squared:                       0.003\n",
       "Model:                            OLS   Adj. R-squared:                  0.003\n",
       "Method:                 Least Squares   F-statistic:                     69.87\n",
       "Date:                Tue, 02 May 2017   Prob (F-statistic):           6.64e-17\n",
       "Time:                        14:51:20   Log-Likelihood:                -11926.\n",
       "No. Observations:               27450   AIC:                         2.386e+04\n",
       "Df Residuals:                   27448   BIC:                         2.387e+04\n",
       "Df Model:                           1                                         \n",
       "Covariance Type:            nonrobust                                         \n",
       "=====================================================================================\n",
       "                        coef    std err          t      P>|t|      [95.0% Conf. Int.]\n",
       "-------------------------------------------------------------------------------------\n",
       "Intercept             0.8076      0.004    220.676      0.000         0.800     0.815\n",
       "progresa[T.basal]     0.0388      0.005      8.359      0.000         0.030     0.048\n",
       "==============================================================================\n",
       "Omnibus:                     7638.939   Durbin-Watson:                   1.734\n",
       "Prob(Omnibus):                  0.000   Jarque-Bera (JB):            15767.534\n",
       "Skew:                          -1.767   Prob(JB):                         0.00\n",
       "Kurtosis:                       4.140   Cond. No.                         3.01\n",
       "==============================================================================\n",
       "\n",
       "Warnings:\n",
       "[1] Standard Errors assume that the covariance matrix of the errors is correctly specified.\n",
       "\"\"\""
      ]
     },
     "execution_count": 252,
     "metadata": {},
     "output_type": "execute_result"
    }
   ],
   "source": [
    "import statsmodels.formula.api as smf\n",
    "\n",
    "# create a fitted model in one line\n",
    "lm = smf.ols(formula='sc ~ progresa', data=p6_df).fit()\n",
    "\n",
    "# print the coefficients\n",
    "lm.params\n",
    "\n",
    "lm.summary()"
   ]
  },
  {
   "cell_type": "markdown",
   "metadata": {},
   "source": [
    "Answer.2.2. Progresa increases the likelihood of a child enrolling by 0.038 (SE 0.005). No we cannot reject the null hypothesis based on this. "
   ]
  },
  {
   "cell_type": "markdown",
   "metadata": {
    "ein.tags": [
     "worksheet-0"
    ],
    "slideshow": {
     "slide_type": "-"
    }
   },
   "source": [
    "### 2.3 Multiple Regression\n",
    "\n",
    "Re-run the above regression estimated but this time include a set of control variables. Include, for instance, age, distance to a secondary school, gender, education of household head, indigenous, etc.\n",
    "\n",
    "* How do the controls affect the point estimate of treatment effect?\n",
    "* How do the controls affect the standard error on the treatment effect? \n",
    "* How do you interpret the differences (or similarities) between your estimates of 2.2 and 2.3?"
   ]
  },
  {
   "cell_type": "code",
   "execution_count": 253,
   "metadata": {
    "autoscroll": "json-false",
    "collapsed": false,
    "ein.tags": [
     "worksheet-0"
    ],
    "slideshow": {
     "slide_type": "-"
    }
   },
   "outputs": [
    {
     "data": {
      "text/html": [
       "<table class=\"simpletable\">\n",
       "<caption>OLS Regression Results</caption>\n",
       "<tr>\n",
       "  <th>Dep. Variable:</th>           <td>sc</td>        <th>  R-squared:         </th> <td>   0.268</td> \n",
       "</tr>\n",
       "<tr>\n",
       "  <th>Model:</th>                   <td>OLS</td>       <th>  Adj. R-squared:    </th> <td>   0.268</td> \n",
       "</tr>\n",
       "<tr>\n",
       "  <th>Method:</th>             <td>Least Squares</td>  <th>  F-statistic:       </th> <td>   1666.</td> \n",
       "</tr>\n",
       "<tr>\n",
       "  <th>Date:</th>             <td>Tue, 02 May 2017</td> <th>  Prob (F-statistic):</th>  <td>  0.00</td>  \n",
       "</tr>\n",
       "<tr>\n",
       "  <th>Time:</th>                 <td>15:02:09</td>     <th>  Log-Likelihood:    </th> <td> -7671.8</td> \n",
       "</tr>\n",
       "<tr>\n",
       "  <th>No. Observations:</th>      <td> 27340</td>      <th>  AIC:               </th> <td>1.536e+04</td>\n",
       "</tr>\n",
       "<tr>\n",
       "  <th>Df Residuals:</th>          <td> 27333</td>      <th>  BIC:               </th> <td>1.542e+04</td>\n",
       "</tr>\n",
       "<tr>\n",
       "  <th>Df Model:</th>              <td>     6</td>      <th>                     </th>     <td> </td>    \n",
       "</tr>\n",
       "<tr>\n",
       "  <th>Covariance Type:</th>      <td>nonrobust</td>    <th>                     </th>     <td> </td>    \n",
       "</tr>\n",
       "</table>\n",
       "<table class=\"simpletable\">\n",
       "<tr>\n",
       "          <td></td>             <th>coef</th>     <th>std err</th>      <th>t</th>      <th>P>|t|</th> <th>[95.0% Conf. Int.]</th> \n",
       "</tr>\n",
       "<tr>\n",
       "  <th>Intercept</th>         <td>    1.5235</td> <td>    0.009</td> <td>  161.784</td> <td> 0.000</td> <td>    1.505     1.542</td>\n",
       "</tr>\n",
       "<tr>\n",
       "  <th>progresa[T.basal]</th> <td>    0.0356</td> <td>    0.004</td> <td>    8.920</td> <td> 0.000</td> <td>    0.028     0.043</td>\n",
       "</tr>\n",
       "<tr>\n",
       "  <th>age</th>               <td>   -0.0655</td> <td>    0.001</td> <td>  -95.686</td> <td> 0.000</td> <td>   -0.067    -0.064</td>\n",
       "</tr>\n",
       "<tr>\n",
       "  <th>dist_sec</th>          <td>   -0.0119</td> <td>    0.001</td> <td>  -13.642</td> <td> 0.000</td> <td>   -0.014    -0.010</td>\n",
       "</tr>\n",
       "<tr>\n",
       "  <th>sex</th>               <td>    0.0310</td> <td>    0.004</td> <td>    7.995</td> <td> 0.000</td> <td>    0.023     0.039</td>\n",
       "</tr>\n",
       "<tr>\n",
       "  <th>hohedu</th>            <td>    0.0087</td> <td>    0.001</td> <td>   11.147</td> <td> 0.000</td> <td>    0.007     0.010</td>\n",
       "</tr>\n",
       "<tr>\n",
       "  <th>indig</th>             <td>    0.0468</td> <td>    0.004</td> <td>   11.306</td> <td> 0.000</td> <td>    0.039     0.055</td>\n",
       "</tr>\n",
       "</table>\n",
       "<table class=\"simpletable\">\n",
       "<tr>\n",
       "  <th>Omnibus:</th>       <td>2974.429</td> <th>  Durbin-Watson:     </th> <td>   1.717</td>\n",
       "</tr>\n",
       "<tr>\n",
       "  <th>Prob(Omnibus):</th>  <td> 0.000</td>  <th>  Jarque-Bera (JB):  </th> <td>4048.759</td>\n",
       "</tr>\n",
       "<tr>\n",
       "  <th>Skew:</th>           <td>-0.935</td>  <th>  Prob(JB):          </th> <td>    0.00</td>\n",
       "</tr>\n",
       "<tr>\n",
       "  <th>Kurtosis:</th>       <td> 3.239</td>  <th>  Cond. No.          </th> <td>    60.4</td>\n",
       "</tr>\n",
       "</table>"
      ],
      "text/plain": [
       "<class 'statsmodels.iolib.summary.Summary'>\n",
       "\"\"\"\n",
       "                            OLS Regression Results                            \n",
       "==============================================================================\n",
       "Dep. Variable:                     sc   R-squared:                       0.268\n",
       "Model:                            OLS   Adj. R-squared:                  0.268\n",
       "Method:                 Least Squares   F-statistic:                     1666.\n",
       "Date:                Tue, 02 May 2017   Prob (F-statistic):               0.00\n",
       "Time:                        15:02:09   Log-Likelihood:                -7671.8\n",
       "No. Observations:               27340   AIC:                         1.536e+04\n",
       "Df Residuals:                   27333   BIC:                         1.542e+04\n",
       "Df Model:                           6                                         \n",
       "Covariance Type:            nonrobust                                         \n",
       "=====================================================================================\n",
       "                        coef    std err          t      P>|t|      [95.0% Conf. Int.]\n",
       "-------------------------------------------------------------------------------------\n",
       "Intercept             1.5235      0.009    161.784      0.000         1.505     1.542\n",
       "progresa[T.basal]     0.0356      0.004      8.920      0.000         0.028     0.043\n",
       "age                  -0.0655      0.001    -95.686      0.000        -0.067    -0.064\n",
       "dist_sec             -0.0119      0.001    -13.642      0.000        -0.014    -0.010\n",
       "sex                   0.0310      0.004      7.995      0.000         0.023     0.039\n",
       "hohedu                0.0087      0.001     11.147      0.000         0.007     0.010\n",
       "indig                 0.0468      0.004     11.306      0.000         0.039     0.055\n",
       "==============================================================================\n",
       "Omnibus:                     2974.429   Durbin-Watson:                   1.717\n",
       "Prob(Omnibus):                  0.000   Jarque-Bera (JB):             4048.759\n",
       "Skew:                          -0.935   Prob(JB):                         0.00\n",
       "Kurtosis:                       3.239   Cond. No.                         60.4\n",
       "==============================================================================\n",
       "\n",
       "Warnings:\n",
       "[1] Standard Errors assume that the covariance matrix of the errors is correctly specified.\n",
       "\"\"\""
      ]
     },
     "execution_count": 253,
     "metadata": {},
     "output_type": "execute_result"
    }
   ],
   "source": [
    "# create a fitted model with all three features\n",
    "lm2 = smf.ols(formula='sc ~ progresa + age + dist_sec + sex + hohedu + indig', data=p6_df).fit()\n",
    "lm2.summary()\n"
   ]
  },
  {
   "cell_type": "markdown",
   "metadata": {},
   "source": [
    "Adding more controls asn performing multiple regression decreases the coefficient of progresa a little.\n",
    "The coefficient of Progresa from simple difference regression is 0.038 (SE 0.005).\n",
    "Whereas, the coefficient of Progresa from multiple regression is 0.035 (SE 0.004).\n",
    "The coefficient is a measure of the impact of progresa on enrollment rate. Multiple regression decreases the impact a little but SE also decreases a little from 0.005 to 0.004, meaning there is less error and the estimate of impact is more accurate. "
   ]
  },
  {
   "cell_type": "markdown",
   "metadata": {
    "ein.tags": [
     "worksheet-0"
    ],
    "slideshow": {
     "slide_type": "-"
    }
   },
   "source": [
    "### 2.4 Difference-in-Difference, version 1 (tabular)\n",
    "\n",
    "Thus far, we have computed the effects of Progresa by estimating the difference in 1998 enrollment rates across villages. An alternative approach would be to compute the treatment effect using a difference-in-differences framework.\n",
    "\n",
    "Begin by estimating the average treatment effects of the program for poor households using data from 1997 and 1998. Specifically, calculate the difference (between 1997 and 1998) in enrollment rates among poor households in treated villages; then compute the difference (between 1997 and 1998) in enrollment rates among poor households in treated villages. The difference between these two differences is your estimate.\n",
    "\n",
    "* What is your estimate of the impact, and how does it compare to your earlier (simple difference) results?\n",
    "* What is the counterfactual assumption underlying this estimate? \n"
   ]
  },
  {
   "cell_type": "code",
   "execution_count": 290,
   "metadata": {
    "autoscroll": "json-false",
    "collapsed": false,
    "ein.tags": [
     "worksheet-0"
    ],
    "slideshow": {
     "slide_type": "-"
    }
   },
   "outputs": [
    {
     "data": {
      "text/plain": [
       "0.031331280319323085"
      ]
     },
     "execution_count": 290,
     "metadata": {},
     "output_type": "execute_result"
    }
   ],
   "source": [
    "p8_df = p_df[p_df.poor =='pobre'] # original dataset filtering on poor\n",
    "\n",
    "#filter on year 98 and treatment and control\n",
    "p98treat_df = p8_df[(p8_df.year == 98) & (p8_df.progresa == 'basal')]\n",
    "p98control_df = p8_df[(p8_df.year == 98) & (p8_df.progresa == '0')]\n",
    "\n",
    "#filter on year 97 and treatment and control\n",
    "p97treat_df = p8_df[(p8_df.year == 97) & (p8_df.progresa == 'basal')]\n",
    "p97control_df = p8_df[(p8_df.year == 97) & (p8_df.progresa == '0')]\n",
    "\n",
    "a = p98treat_df.sc.mean()\n",
    "b = p98control_df.sc.mean()\n",
    "c = p97treat_df.sc.mean()\n",
    "d = p97control_df.sc.mean()\n",
    "\n",
    "d_in_d = (a-c)-(b-d)\n",
    "d_in_d\n"
   ]
  },
  {
   "cell_type": "markdown",
   "metadata": {},
   "source": [
    "Answer.2.4. The estimate of the impact by difference-in difference is 0.03133. The estimate of the impact by simple difference is 0.038842, which is slightly larger than the diff-in-diff estimate."
   ]
  },
  {
   "cell_type": "markdown",
   "metadata": {
    "ein.tags": [
     "worksheet-0"
    ],
    "slideshow": {
     "slide_type": "-"
    }
   },
   "source": [
    "### 2.5 Difference-in-Difference, version 1 (regression)\n",
    "\n",
    "Now use a regression specification to estimate the average treatment effect of the program (on the poor) in a difference-in-differences framework. Include at least 5 control variables.\n",
    "\n",
    "* What is your estimate of the impact of Progresa? Be very specific in interpreting your coefficients and standard errors, and make sure to specify exactly what units you are measuring and estimating.\n",
    "* How do these estimates of the treatment effect compare to the estimates based on the simple difference?\n",
    "* How do these estimates compare to the difference-in-difference estimates from 2.4 above? What accounts for these differences?\n",
    "* What is the counterfactual assumption underlying this regression? "
   ]
  },
  {
   "cell_type": "code",
   "execution_count": 313,
   "metadata": {
    "autoscroll": "json-false",
    "collapsed": false,
    "ein.tags": [
     "worksheet-0"
    ],
    "slideshow": {
     "slide_type": "-"
    }
   },
   "outputs": [
    {
     "data": {
      "text/html": [
       "<table class=\"simpletable\">\n",
       "<caption>OLS Regression Results</caption>\n",
       "<tr>\n",
       "  <th>Dep. Variable:</th>           <td>sc</td>        <th>  R-squared:         </th> <td>   0.279</td> \n",
       "</tr>\n",
       "<tr>\n",
       "  <th>Model:</th>                   <td>OLS</td>       <th>  Adj. R-squared:    </th> <td>   0.279</td> \n",
       "</tr>\n",
       "<tr>\n",
       "  <th>Method:</th>             <td>Least Squares</td>  <th>  F-statistic:       </th> <td>   2810.</td> \n",
       "</tr>\n",
       "<tr>\n",
       "  <th>Date:</th>             <td>Tue, 02 May 2017</td> <th>  Prob (F-statistic):</th>  <td>  0.00</td>  \n",
       "</tr>\n",
       "<tr>\n",
       "  <th>Time:</th>                 <td>19:07:03</td>     <th>  Log-Likelihood:    </th> <td> -16717.</td> \n",
       "</tr>\n",
       "<tr>\n",
       "  <th>No. Observations:</th>      <td> 58165</td>      <th>  AIC:               </th> <td>3.345e+04</td>\n",
       "</tr>\n",
       "<tr>\n",
       "  <th>Df Residuals:</th>          <td> 58156</td>      <th>  BIC:               </th> <td>3.353e+04</td>\n",
       "</tr>\n",
       "<tr>\n",
       "  <th>Df Model:</th>              <td>     8</td>      <th>                     </th>     <td> </td>    \n",
       "</tr>\n",
       "<tr>\n",
       "  <th>Covariance Type:</th>      <td>nonrobust</td>    <th>                     </th>     <td> </td>    \n",
       "</tr>\n",
       "</table>\n",
       "<table class=\"simpletable\">\n",
       "<tr>\n",
       "        <td></td>           <th>coef</th>     <th>std err</th>      <th>t</th>      <th>P>|t|</th> <th>[95.0% Conf. Int.]</th> \n",
       "</tr>\n",
       "<tr>\n",
       "  <th>Intercept</th>     <td>    1.4940</td> <td>    0.006</td> <td>  231.606</td> <td> 0.000</td> <td>    1.481     1.507</td>\n",
       "</tr>\n",
       "<tr>\n",
       "  <th>progresa</th>      <td>    0.0043</td> <td>    0.004</td> <td>    1.137</td> <td> 0.256</td> <td>   -0.003     0.012</td>\n",
       "</tr>\n",
       "<tr>\n",
       "  <th>year</th>          <td>    0.0270</td> <td>    0.004</td> <td>    6.204</td> <td> 0.000</td> <td>    0.018     0.036</td>\n",
       "</tr>\n",
       "<tr>\n",
       "  <th>progresa:year</th> <td>    0.0314</td> <td>    0.006</td> <td>    5.685</td> <td> 0.000</td> <td>    0.021     0.042</td>\n",
       "</tr>\n",
       "<tr>\n",
       "  <th>age</th>           <td>   -0.0655</td> <td>    0.000</td> <td> -144.433</td> <td> 0.000</td> <td>   -0.066    -0.065</td>\n",
       "</tr>\n",
       "<tr>\n",
       "  <th>dist_sec</th>      <td>   -0.0110</td> <td>    0.001</td> <td>  -17.788</td> <td> 0.000</td> <td>   -0.012    -0.010</td>\n",
       "</tr>\n",
       "<tr>\n",
       "  <th>sex</th>           <td>    0.0339</td> <td>    0.003</td> <td>   12.672</td> <td> 0.000</td> <td>    0.029     0.039</td>\n",
       "</tr>\n",
       "<tr>\n",
       "  <th>hohedu</th>        <td>    0.0076</td> <td>    0.001</td> <td>   14.110</td> <td> 0.000</td> <td>    0.007     0.009</td>\n",
       "</tr>\n",
       "<tr>\n",
       "  <th>indig</th>         <td>    0.0496</td> <td>    0.003</td> <td>   17.304</td> <td> 0.000</td> <td>    0.044     0.055</td>\n",
       "</tr>\n",
       "</table>\n",
       "<table class=\"simpletable\">\n",
       "<tr>\n",
       "  <th>Omnibus:</th>       <td>5523.777</td> <th>  Durbin-Watson:     </th> <td>   1.484</td>\n",
       "</tr>\n",
       "<tr>\n",
       "  <th>Prob(Omnibus):</th>  <td> 0.000</td>  <th>  Jarque-Bera (JB):  </th> <td>7269.312</td>\n",
       "</tr>\n",
       "<tr>\n",
       "  <th>Skew:</th>           <td>-0.864</td>  <th>  Prob(JB):          </th> <td>    0.00</td>\n",
       "</tr>\n",
       "<tr>\n",
       "  <th>Kurtosis:</th>       <td> 3.113</td>  <th>  Cond. No.          </th> <td>    70.8</td>\n",
       "</tr>\n",
       "</table>"
      ],
      "text/plain": [
       "<class 'statsmodels.iolib.summary.Summary'>\n",
       "\"\"\"\n",
       "                            OLS Regression Results                            \n",
       "==============================================================================\n",
       "Dep. Variable:                     sc   R-squared:                       0.279\n",
       "Model:                            OLS   Adj. R-squared:                  0.279\n",
       "Method:                 Least Squares   F-statistic:                     2810.\n",
       "Date:                Tue, 02 May 2017   Prob (F-statistic):               0.00\n",
       "Time:                        19:07:03   Log-Likelihood:                -16717.\n",
       "No. Observations:               58165   AIC:                         3.345e+04\n",
       "Df Residuals:                   58156   BIC:                         3.353e+04\n",
       "Df Model:                           8                                         \n",
       "Covariance Type:            nonrobust                                         \n",
       "=================================================================================\n",
       "                    coef    std err          t      P>|t|      [95.0% Conf. Int.]\n",
       "---------------------------------------------------------------------------------\n",
       "Intercept         1.4940      0.006    231.606      0.000         1.481     1.507\n",
       "progresa          0.0043      0.004      1.137      0.256        -0.003     0.012\n",
       "year              0.0270      0.004      6.204      0.000         0.018     0.036\n",
       "progresa:year     0.0314      0.006      5.685      0.000         0.021     0.042\n",
       "age              -0.0655      0.000   -144.433      0.000        -0.066    -0.065\n",
       "dist_sec         -0.0110      0.001    -17.788      0.000        -0.012    -0.010\n",
       "sex               0.0339      0.003     12.672      0.000         0.029     0.039\n",
       "hohedu            0.0076      0.001     14.110      0.000         0.007     0.009\n",
       "indig             0.0496      0.003     17.304      0.000         0.044     0.055\n",
       "==============================================================================\n",
       "Omnibus:                     5523.777   Durbin-Watson:                   1.484\n",
       "Prob(Omnibus):                  0.000   Jarque-Bera (JB):             7269.312\n",
       "Skew:                          -0.864   Prob(JB):                         0.00\n",
       "Kurtosis:                       3.113   Cond. No.                         70.8\n",
       "==============================================================================\n",
       "\n",
       "Warnings:\n",
       "[1] Standard Errors assume that the covariance matrix of the errors is correctly specified.\n",
       "\"\"\""
      ]
     },
     "execution_count": 313,
     "metadata": {},
     "output_type": "execute_result"
    }
   ],
   "source": [
    "p9_df = p_df[p_df.poor =='pobre']\n",
    "# replace year 98 with 1 and year 97 with 0\n",
    "year = []\n",
    "for column in p8_df.year:\n",
    "    if column == 98: \n",
    "        year.append(1)\n",
    "    elif column == 97:\n",
    "        year.append(0)\n",
    "# replace progresa 'basal' with 1 \n",
    "progresa = []\n",
    "for column in p8_df.progresa:\n",
    "    if column == 'basal':\n",
    "        progresa.append(1)\n",
    "    elif column == '0':\n",
    "        progresa.append(0)\n",
    "        \n",
    "# replace columns year and progresa\n",
    "p9_df.year = year\n",
    "p9_df.progresa = progresa\n",
    "\n",
    "#multiple regression on the difference-in-difference framework\n",
    "lm3 = smf.ols(formula='sc ~ progresa*year + progresa + year+ age + dist_sec + sex + hohedu + indig', data=p9_df).fit()\n",
    "lm3.summary()"
   ]
  },
  {
   "cell_type": "markdown",
   "metadata": {},
   "source": [
    "\n",
    " - What is your estimate of the impact of Progresa? Be very specific in interpreting your coefficients and standard errors, and make sure to specify exactly what units you are measuring and estimating.\n",
    " \n",
    "    Answer: The 'progresa:year' variable has a coefficient of 0.0314 (SE 0.006),the coefficient is the effect of progresa on enrollment taking into consideration the baseline differences between the treatment and control groups. According to the difference-in-difference regression the impact of progresa on enrollment rate is 0.0314.\n",
    "  \n",
    "  \n",
    " \n",
    "  - How do these estimates of the treatment effect compare to the estimates based on the simple difference?\n",
    "  \n",
    "    Answer:  The coefficient and impact of progresa calculated by diff-in-diff regression is 0.314, which is lower than the estimate of impact of progresa calculated by simple difference which is 0.038842.\n",
    "  \n",
    "  \n",
    "  \n",
    "   - How do these estimates compare to the difference-in-difference estimates from 2.4 above? What accounts for these differences?\n",
    "   \n",
    "    Answer:  The coefficient and impact of progresa calculated by diff-in-diff regression is 0.314, which is slightly more than the estimate of impact of progresa calculated by difference-in-difference calculation which is 0.0313312. \n",
    "I think the diff-in-diff regression also takes into account the effect of other confounding variables such as gender, head of household education etc, therefore is more accurate that just diff-in-diff calculation. \n",
    "   \n",
    "   \n",
    "   \n",
    "   - What is the counterfactual assumption underlying this regression?\n",
    "  \n",
    "    Answer: The conterfactual assumption is that if progressa does not impact enrollment, then the enrollment rates will be the same among control and treated groups. Therefore any difference in the enrollemnt rates between the two groups is only due to progresa treatment while in reality there could be other confounding variables that could also influence enrollment rate independent of progresa.\n",
    "  \n"
   ]
  },
  {
   "cell_type": "markdown",
   "metadata": {
    "ein.tags": [
     "worksheet-0"
    ],
    "slideshow": {
     "slide_type": "-"
    }
   },
   "source": [
    "### 2.6 Difference-in-Difference, version 2\n",
    "\n",
    "In the previous problem, you estimated a difference-in-differences model that compared changes in enrollment rates over time across treatment and control villages. An alternative approach would be to compare enrollment rates in 1998 between poor and non-poor across treatment and control villages. \n",
    "\n",
    "* How would we estimate this version of the treatment effects in a regression model? \n",
    "* What is the counterfactual assumption underlying this regression?\n",
    "* How do these treatment effects compare to the estimates above?\n",
    "* Discuss some possible explanations for differences or similarities "
   ]
  },
  {
   "cell_type": "code",
   "execution_count": 312,
   "metadata": {
    "autoscroll": "json-false",
    "collapsed": false,
    "ein.tags": [
     "worksheet-0"
    ],
    "slideshow": {
     "slide_type": "-"
    }
   },
   "outputs": [
    {
     "data": {
      "text/html": [
       "<table class=\"simpletable\">\n",
       "<caption>OLS Regression Results</caption>\n",
       "<tr>\n",
       "  <th>Dep. Variable:</th>           <td>sc</td>        <th>  R-squared:         </th> <td>   0.269</td> \n",
       "</tr>\n",
       "<tr>\n",
       "  <th>Model:</th>                   <td>OLS</td>       <th>  Adj. R-squared:    </th> <td>   0.268</td> \n",
       "</tr>\n",
       "<tr>\n",
       "  <th>Method:</th>             <td>Least Squares</td>  <th>  F-statistic:       </th> <td>   1467.</td> \n",
       "</tr>\n",
       "<tr>\n",
       "  <th>Date:</th>             <td>Tue, 02 May 2017</td> <th>  Prob (F-statistic):</th>  <td>  0.00</td>  \n",
       "</tr>\n",
       "<tr>\n",
       "  <th>Time:</th>                 <td>19:06:30</td>     <th>  Log-Likelihood:    </th> <td> -9335.6</td> \n",
       "</tr>\n",
       "<tr>\n",
       "  <th>No. Observations:</th>      <td> 31975</td>      <th>  AIC:               </th> <td>1.869e+04</td>\n",
       "</tr>\n",
       "<tr>\n",
       "  <th>Df Residuals:</th>          <td> 31966</td>      <th>  BIC:               </th> <td>1.876e+04</td>\n",
       "</tr>\n",
       "<tr>\n",
       "  <th>Df Model:</th>              <td>     8</td>      <th>                     </th>     <td> </td>    \n",
       "</tr>\n",
       "<tr>\n",
       "  <th>Covariance Type:</th>      <td>nonrobust</td>    <th>                     </th>     <td> </td>    \n",
       "</tr>\n",
       "</table>\n",
       "<table class=\"simpletable\">\n",
       "<tr>\n",
       "        <td></td>           <th>coef</th>     <th>std err</th>      <th>t</th>      <th>P>|t|</th> <th>[95.0% Conf. Int.]</th> \n",
       "</tr>\n",
       "<tr>\n",
       "  <th>Intercept</th>     <td>    1.5423</td> <td>    0.012</td> <td>  133.418</td> <td> 0.000</td> <td>    1.520     1.565</td>\n",
       "</tr>\n",
       "<tr>\n",
       "  <th>progresa</th>      <td>    0.0261</td> <td>    0.010</td> <td>    2.680</td> <td> 0.007</td> <td>    0.007     0.045</td>\n",
       "</tr>\n",
       "<tr>\n",
       "  <th>poor</th>          <td>   -0.0154</td> <td>    0.008</td> <td>   -1.863</td> <td> 0.063</td> <td>   -0.032     0.001</td>\n",
       "</tr>\n",
       "<tr>\n",
       "  <th>progresa:poor</th> <td>    0.0095</td> <td>    0.011</td> <td>    0.901</td> <td> 0.368</td> <td>   -0.011     0.030</td>\n",
       "</tr>\n",
       "<tr>\n",
       "  <th>age</th>           <td>   -0.0659</td> <td>    0.001</td> <td> -103.053</td> <td> 0.000</td> <td>   -0.067    -0.065</td>\n",
       "</tr>\n",
       "<tr>\n",
       "  <th>dist_sec</th>      <td>   -0.0122</td> <td>    0.001</td> <td>  -14.636</td> <td> 0.000</td> <td>   -0.014    -0.011</td>\n",
       "</tr>\n",
       "<tr>\n",
       "  <th>sex</th>           <td>    0.0311</td> <td>    0.004</td> <td>    8.571</td> <td> 0.000</td> <td>    0.024     0.038</td>\n",
       "</tr>\n",
       "<tr>\n",
       "  <th>hohedu</th>        <td>    0.0093</td> <td>    0.001</td> <td>   13.414</td> <td> 0.000</td> <td>    0.008     0.011</td>\n",
       "</tr>\n",
       "<tr>\n",
       "  <th>indig</th>         <td>    0.0474</td> <td>    0.004</td> <td>   11.797</td> <td> 0.000</td> <td>    0.040     0.055</td>\n",
       "</tr>\n",
       "</table>\n",
       "<table class=\"simpletable\">\n",
       "<tr>\n",
       "  <th>Omnibus:</th>       <td>3219.038</td> <th>  Durbin-Watson:     </th> <td>   1.721</td>\n",
       "</tr>\n",
       "<tr>\n",
       "  <th>Prob(Omnibus):</th>  <td> 0.000</td>  <th>  Jarque-Bera (JB):  </th> <td>4302.755</td>\n",
       "</tr>\n",
       "<tr>\n",
       "  <th>Skew:</th>           <td>-0.897</td>  <th>  Prob(JB):          </th> <td>    0.00</td>\n",
       "</tr>\n",
       "<tr>\n",
       "  <th>Kurtosis:</th>       <td> 3.119</td>  <th>  Cond. No.          </th> <td>    119.</td>\n",
       "</tr>\n",
       "</table>"
      ],
      "text/plain": [
       "<class 'statsmodels.iolib.summary.Summary'>\n",
       "\"\"\"\n",
       "                            OLS Regression Results                            \n",
       "==============================================================================\n",
       "Dep. Variable:                     sc   R-squared:                       0.269\n",
       "Model:                            OLS   Adj. R-squared:                  0.268\n",
       "Method:                 Least Squares   F-statistic:                     1467.\n",
       "Date:                Tue, 02 May 2017   Prob (F-statistic):               0.00\n",
       "Time:                        19:06:30   Log-Likelihood:                -9335.6\n",
       "No. Observations:               31975   AIC:                         1.869e+04\n",
       "Df Residuals:                   31966   BIC:                         1.876e+04\n",
       "Df Model:                           8                                         \n",
       "Covariance Type:            nonrobust                                         \n",
       "=================================================================================\n",
       "                    coef    std err          t      P>|t|      [95.0% Conf. Int.]\n",
       "---------------------------------------------------------------------------------\n",
       "Intercept         1.5423      0.012    133.418      0.000         1.520     1.565\n",
       "progresa          0.0261      0.010      2.680      0.007         0.007     0.045\n",
       "poor             -0.0154      0.008     -1.863      0.063        -0.032     0.001\n",
       "progresa:poor     0.0095      0.011      0.901      0.368        -0.011     0.030\n",
       "age              -0.0659      0.001   -103.053      0.000        -0.067    -0.065\n",
       "dist_sec         -0.0122      0.001    -14.636      0.000        -0.014    -0.011\n",
       "sex               0.0311      0.004      8.571      0.000         0.024     0.038\n",
       "hohedu            0.0093      0.001     13.414      0.000         0.008     0.011\n",
       "indig             0.0474      0.004     11.797      0.000         0.040     0.055\n",
       "==============================================================================\n",
       "Omnibus:                     3219.038   Durbin-Watson:                   1.721\n",
       "Prob(Omnibus):                  0.000   Jarque-Bera (JB):             4302.755\n",
       "Skew:                          -0.897   Prob(JB):                         0.00\n",
       "Kurtosis:                       3.119   Cond. No.                         119.\n",
       "==============================================================================\n",
       "\n",
       "Warnings:\n",
       "[1] Standard Errors assume that the covariance matrix of the errors is correctly specified.\n",
       "\"\"\""
      ]
     },
     "execution_count": 312,
     "metadata": {},
     "output_type": "execute_result"
    }
   ],
   "source": [
    "p10_df = p_df[p_df.year == 98]\n",
    "\n",
    "# replace year  pobre with 1 and no pobre with 0\n",
    "poor = []\n",
    "for column in p10_df.poor:\n",
    "    if column == 'pobre': \n",
    "        poor.append(1)\n",
    "    elif column == 'no pobre':\n",
    "        poor.append(0)\n",
    "        \n",
    "# replace progresa 'basal' with 1 \n",
    "progresa = []\n",
    "for column in p10_df.progresa:\n",
    "    if column == 'basal':\n",
    "        progresa.append(1)\n",
    "    elif column == '0':\n",
    "        progresa.append(0)\n",
    "        \n",
    "# replace columns year and progresa\n",
    "p10_df.poor = poor\n",
    "p10_df.progresa = progresa\n",
    "\n",
    "p10_df.head()\n",
    "\n",
    "#multiple regression on the difference-in-difference framework\n",
    "lm4 = smf.ols(formula='sc ~ progresa*poor + progresa + poor + age + dist_sec + sex + hohedu + indig', data=p10_df).fit()\n",
    "lm4.summary()"
   ]
  },
  {
   "cell_type": "markdown",
   "metadata": {},
   "source": [
    "* How would we estimate this version of the treatment effects in a regression model?\n",
    "\n",
    "    Answer: The coefficient of this regression is 0.0095 (SE 0.011) which is smaller than the previous difference-in-difference regression coefficient which is 0.0314.This estimate is the impact of progressa on enrollment rates taking into account the differences in enrollemnt rates between poor and non-poor groups across control and treated groups and some more confounding variables. This method decreases the impact of progresa on enrollment seen only in the poor group, therefore, it dilutes the actual effect of progresa.\n",
    "     \n",
    "    \n",
    "* What is the counterfactual assumption underlying this regression?\n",
    "\n",
    "    Answer: In the absence of progresa the enrollemnt rates of treatment and control groups will be the same whether the family is poor or not poor.\n",
    "\n",
    "\n",
    "        \n",
    "* How do these treatment effects compare to the estimates above?\n",
    "\n",
    "    Answer: By including poor and non-poor families in the same treatment and control group, decreases the impact of progresa on enrollment rate which is 0.314 (by diff-in-diff regression method) to 0.0095.\n",
    "        \n",
    "        \n",
    "        \n",
    "* Discuss some possible explanations for differences or similarities \n",
    "\n",
    "    Answer: The progresa program is a way for poor families to augment their income by sending their children to school. This additional income is an incentive by the government to send children to school and the longer they are in school, more money they get from the government. For a non-poor family the additional income will not be a good enough incentive to send the child to school. Therefore, by including both poor and non-poor families together in the control and treated groups, we are diluting(decreasing) the actual impact of progressa on enrollemnt rates in poor families."
   ]
  },
  {
   "cell_type": "markdown",
   "metadata": {
    "ein.tags": [
     "worksheet-0"
    ],
    "slideshow": {
     "slide_type": "-"
    }
   },
   "source": [
    "### 2.7 Spillover effects (extra credit)\n",
    "\n",
    "Thus far, we have focused on the impact of PROGRESA on poor households. Repeat your analysis in 2.5, using a double-difference regression to estimate the impact of PROGRESA on non-poor households. In other words, compare the difference in enrollments between 1997 and 1998 for non-poor households in treatment villages with the difference in enrollments between 1997 and 1998 for non-poor households in control villages.\n",
    "\n",
    "* A: Describe one or two reasons why PROGRESA might have impacted non-poor households.\n",
    "* B: Do you observe any impacts of PROGRESA on the non-poor?\n",
    "* C: What is the identifying assumption that you are using to estimate the impact of PROGRESA on non-poor households."
   ]
  },
  {
   "cell_type": "code",
   "execution_count": 315,
   "metadata": {
    "autoscroll": "json-false",
    "collapsed": false,
    "ein.tags": [
     "worksheet-0"
    ],
    "slideshow": {
     "slide_type": "-"
    }
   },
   "outputs": [
    {
     "data": {
      "text/html": [
       "<table class=\"simpletable\">\n",
       "<caption>OLS Regression Results</caption>\n",
       "<tr>\n",
       "  <th>Dep. Variable:</th>           <td>sc</td>        <th>  R-squared:         </th> <td>   0.284</td>\n",
       "</tr>\n",
       "<tr>\n",
       "  <th>Model:</th>                   <td>OLS</td>       <th>  Adj. R-squared:    </th> <td>   0.283</td>\n",
       "</tr>\n",
       "<tr>\n",
       "  <th>Method:</th>             <td>Least Squares</td>  <th>  F-statistic:       </th> <td>   513.2</td>\n",
       "</tr>\n",
       "<tr>\n",
       "  <th>Date:</th>             <td>Tue, 02 May 2017</td> <th>  Prob (F-statistic):</th>  <td>  0.00</td> \n",
       "</tr>\n",
       "<tr>\n",
       "  <th>Time:</th>                 <td>19:32:02</td>     <th>  Log-Likelihood:    </th> <td> -3700.6</td>\n",
       "</tr>\n",
       "<tr>\n",
       "  <th>No. Observations:</th>      <td> 10378</td>      <th>  AIC:               </th> <td>   7419.</td>\n",
       "</tr>\n",
       "<tr>\n",
       "  <th>Df Residuals:</th>          <td> 10369</td>      <th>  BIC:               </th> <td>   7484.</td>\n",
       "</tr>\n",
       "<tr>\n",
       "  <th>Df Model:</th>              <td>     8</td>      <th>                     </th>     <td> </td>   \n",
       "</tr>\n",
       "<tr>\n",
       "  <th>Covariance Type:</th>      <td>nonrobust</td>    <th>                     </th>     <td> </td>   \n",
       "</tr>\n",
       "</table>\n",
       "<table class=\"simpletable\">\n",
       "<tr>\n",
       "        <td></td>           <th>coef</th>     <th>std err</th>      <th>t</th>      <th>P>|t|</th> <th>[95.0% Conf. Int.]</th> \n",
       "</tr>\n",
       "<tr>\n",
       "  <th>Intercept</th>     <td>    1.5405</td> <td>    0.017</td> <td>   91.982</td> <td> 0.000</td> <td>    1.508     1.573</td>\n",
       "</tr>\n",
       "<tr>\n",
       "  <th>progresa</th>      <td>    0.0271</td> <td>    0.009</td> <td>    2.911</td> <td> 0.004</td> <td>    0.009     0.045</td>\n",
       "</tr>\n",
       "<tr>\n",
       "  <th>year</th>          <td>    0.0380</td> <td>    0.011</td> <td>    3.512</td> <td> 0.000</td> <td>    0.017     0.059</td>\n",
       "</tr>\n",
       "<tr>\n",
       "  <th>progresa:year</th> <td>   -0.0017</td> <td>    0.014</td> <td>   -0.122</td> <td> 0.903</td> <td>   -0.029     0.026</td>\n",
       "</tr>\n",
       "<tr>\n",
       "  <th>age</th>           <td>   -0.0683</td> <td>    0.001</td> <td>  -60.075</td> <td> 0.000</td> <td>   -0.071    -0.066</td>\n",
       "</tr>\n",
       "<tr>\n",
       "  <th>dist_sec</th>      <td>   -0.0164</td> <td>    0.002</td> <td>   -9.276</td> <td> 0.000</td> <td>   -0.020    -0.013</td>\n",
       "</tr>\n",
       "<tr>\n",
       "  <th>sex</th>           <td>    0.0306</td> <td>    0.007</td> <td>    4.500</td> <td> 0.000</td> <td>    0.017     0.044</td>\n",
       "</tr>\n",
       "<tr>\n",
       "  <th>hohedu</th>        <td>    0.0100</td> <td>    0.001</td> <td>    9.305</td> <td> 0.000</td> <td>    0.008     0.012</td>\n",
       "</tr>\n",
       "<tr>\n",
       "  <th>indig</th>         <td>    0.0390</td> <td>    0.010</td> <td>    3.834</td> <td> 0.000</td> <td>    0.019     0.059</td>\n",
       "</tr>\n",
       "</table>\n",
       "<table class=\"simpletable\">\n",
       "<tr>\n",
       "  <th>Omnibus:</th>       <td>846.374</td> <th>  Durbin-Watson:     </th> <td>   1.490</td> \n",
       "</tr>\n",
       "<tr>\n",
       "  <th>Prob(Omnibus):</th> <td> 0.000</td>  <th>  Jarque-Bera (JB):  </th> <td> 820.967</td> \n",
       "</tr>\n",
       "<tr>\n",
       "  <th>Skew:</th>          <td>-0.631</td>  <th>  Prob(JB):          </th> <td>5.36e-179</td>\n",
       "</tr>\n",
       "<tr>\n",
       "  <th>Kurtosis:</th>      <td> 2.448</td>  <th>  Cond. No.          </th> <td>    75.0</td> \n",
       "</tr>\n",
       "</table>"
      ],
      "text/plain": [
       "<class 'statsmodels.iolib.summary.Summary'>\n",
       "\"\"\"\n",
       "                            OLS Regression Results                            \n",
       "==============================================================================\n",
       "Dep. Variable:                     sc   R-squared:                       0.284\n",
       "Model:                            OLS   Adj. R-squared:                  0.283\n",
       "Method:                 Least Squares   F-statistic:                     513.2\n",
       "Date:                Tue, 02 May 2017   Prob (F-statistic):               0.00\n",
       "Time:                        19:32:02   Log-Likelihood:                -3700.6\n",
       "No. Observations:               10378   AIC:                             7419.\n",
       "Df Residuals:                   10369   BIC:                             7484.\n",
       "Df Model:                           8                                         \n",
       "Covariance Type:            nonrobust                                         \n",
       "=================================================================================\n",
       "                    coef    std err          t      P>|t|      [95.0% Conf. Int.]\n",
       "---------------------------------------------------------------------------------\n",
       "Intercept         1.5405      0.017     91.982      0.000         1.508     1.573\n",
       "progresa          0.0271      0.009      2.911      0.004         0.009     0.045\n",
       "year              0.0380      0.011      3.512      0.000         0.017     0.059\n",
       "progresa:year    -0.0017      0.014     -0.122      0.903        -0.029     0.026\n",
       "age              -0.0683      0.001    -60.075      0.000        -0.071    -0.066\n",
       "dist_sec         -0.0164      0.002     -9.276      0.000        -0.020    -0.013\n",
       "sex               0.0306      0.007      4.500      0.000         0.017     0.044\n",
       "hohedu            0.0100      0.001      9.305      0.000         0.008     0.012\n",
       "indig             0.0390      0.010      3.834      0.000         0.019     0.059\n",
       "==============================================================================\n",
       "Omnibus:                      846.374   Durbin-Watson:                   1.490\n",
       "Prob(Omnibus):                  0.000   Jarque-Bera (JB):              820.967\n",
       "Skew:                          -0.631   Prob(JB):                    5.36e-179\n",
       "Kurtosis:                       2.448   Cond. No.                         75.0\n",
       "==============================================================================\n",
       "\n",
       "Warnings:\n",
       "[1] Standard Errors assume that the covariance matrix of the errors is correctly specified.\n",
       "\"\"\""
      ]
     },
     "execution_count": 315,
     "metadata": {},
     "output_type": "execute_result"
    }
   ],
   "source": [
    "p11_df = p_df[p_df.poor =='no pobre']\n",
    "# replace year 98 with 1 and year 97 with 0\n",
    "year = []\n",
    "for column in p11_df.year:\n",
    "    if column == 98: \n",
    "        year.append(1)\n",
    "    elif column == 97:\n",
    "        year.append(0)\n",
    "# replace progresa 'basal' with 1 \n",
    "progresa = []\n",
    "for column in p11_df.progresa:\n",
    "    if column == 'basal':\n",
    "        progresa.append(1)\n",
    "    elif column == '0':\n",
    "        progresa.append(0)\n",
    "        \n",
    "# replace columns year and progresa\n",
    "p11_df.year = year\n",
    "p11_df.progresa = progresa\n",
    "\n",
    "#multiple regression on the difference-in-difference framework\n",
    "lm5 = smf.ols(formula='sc ~ progresa*year + progresa + year+ age + dist_sec + sex + hohedu + indig', data=p11_df).fit()\n",
    "lm5.summary()"
   ]
  },
  {
   "cell_type": "markdown",
   "metadata": {},
   "source": [
    "    A: Describe one or two reasons why PROGRESA might have impacted non-poor households.\n",
    "    \n",
    "    Answer: Progresa may have created awareness programs among the public which may have motivated the non-poor families to send the children to school.\n",
    "    \n",
    "    \n",
    "    B: Do you observe any impacts of PROGRESA on the non-poor?\n",
    "    \n",
    "    Answer: The coefficient of 'progresa:year' is -0.0017(SE 0.014). Progresa did cause an increase in enrollment rate among the non-poor families. \n",
    "    \n",
    "    \n",
    "    \n",
    "    C: What is the identifying assumption that you are using to estimate the impact of PROGRESA on non-poor households.\n",
    "    Answer: Progresa program indirectly by awareness programs or other means could cause an increase in the enrollment rates of children in non-poor families even though they do not get any cash benefits from the government.\n"
   ]
  },
  {
   "cell_type": "markdown",
   "metadata": {
    "ein.tags": [
     "worksheet-0"
    ],
    "slideshow": {
     "slide_type": "-"
    }
   },
   "source": [
    "### 2.8 Summary\n",
    "\n",
    "Based on all the analysis you have undertaken to date, do you thik that Progresa had a causal impact on the enrollment rates of poor households in Mexico?"
   ]
  },
  {
   "cell_type": "markdown",
   "metadata": {
    "autoscroll": "json-false",
    "collapsed": false,
    "ein.tags": [
     "worksheet-0"
    ],
    "slideshow": {
     "slide_type": "-"
    }
   },
   "source": [
    "Yes, Progresa has a causal effect on the enrollment rates of children in the poor families in Mexico. \n",
    "The estimate of the impact of progresa analyzed by simple difference is not an accurate representation of the impact of progresa treatment as there were significant differences between the control and treated groups at baseline. Therefore a difference-in-difference is better method in assessing the impact of progresa. Progresa causes a 3.1-3.4% increase in enrollemnt rates in poor households by the difference-in-difference regression methods."
   ]
  },
  {
   "cell_type": "code",
   "execution_count": null,
   "metadata": {
    "collapsed": true
   },
   "outputs": [],
   "source": []
  }
 ],
 "metadata": {
  "anaconda-cloud": {},
  "kernelspec": {
   "display_name": "Python [Root]",
   "language": "python",
   "name": "Python [Root]"
  },
  "language_info": {
   "codemirror_mode": {
    "name": "ipython",
    "version": 2
   },
   "file_extension": ".py",
   "mimetype": "text/x-python",
   "name": "python",
   "nbconvert_exporter": "python",
   "pygments_lexer": "ipython2",
   "version": "2.7.12"
  },
  "name": "ps2.ipynb"
 },
 "nbformat": 4,
 "nbformat_minor": 2
}
